{
 "cells": [
  {
   "cell_type": "code",
   "execution_count": 1,
   "metadata": {},
   "outputs": [],
   "source": [
    "import pandas as pd\n",
    "import numpy as np\n",
    "import matplotlib.pyplot as plt\n",
    "\n",
    "# pour afficher des images \n",
    "from IPython.display import Image\n",
    "\n",
    "# pour definir le chemin vers le work space\n",
    "import os\n",
    "\n",
    "# Pour le traitements de données après les avoir récoltées \n",
    "import string \n",
    "import re\n",
    "\n",
    "# chemin vers mon work space\n",
    "os.chdir(\"C:\\\\Users\\\\baptc\\\\Documents\\\\GM\\\\optimisation disc\\\\projet\")\n",
    "\n",
    "# pour afficher les données sans faire de print\n",
    "get_ipython().run_line_magic('matplotlib', 'inline')"
   ]
  },
  {
   "cell_type": "markdown",
   "metadata": {},
   "source": [
    "Nous n'avons pas trouvé d'instance de test sur internet. Nous avons donc commencé à fabriquer nous-même nos jeux de données.\n",
    "Pour cela, nous avons choisi de créer notre propre GPS. Nous voulions faire un algorithme qui permette de minimiser un paramètre sous la contrainte des autres paramètres. Les paramètres que nous avons retenus sont les suivants :\n",
    "    \n",
    "La distance, le temps, le coût lié au carburant et le coût lié aux péages.\n",
    "\n",
    "On peut trouver de nombreux fichiers sur internet dans lesquels on peut avoir toutes les distances entre toutes les communes de France.\n",
    "Dans un premier temps, nous avons fait un programme de scraping qui avait récupéré l'ensemble de ces distances. Puis, nous avons fait un graphe entre une quinzaine de villes en allant chercher sur Mappy les ressources.\n",
    "Mais en faisant cela, nous relions toutes les villes les unes entre les autres et donc nous avions que des chemins de longueur 1 entre toutes les villes. Le problème de minimiser sous contrainte dans ce cas revenait à prendre un cas particulier et donc à toujours prendre le chemin de longueur 1. Donc pas intéressant comme instance de test.\n",
    "\n",
    "Nous avons donc compris que l'on ne pouvait pas faire un jeu de données à l'aveugle en prenant des villes et en les reliant aléatoirement.\n",
    "\n",
    "Dans la suite nous avons créé à la main, un graphe des principales villes françaises. Nous avons essayé de ne pas relier au hasard les communes françaises. Nous avons essayé de ne garder que les arcs qui vérifiaient pour (a,b,c)$\\in$S si a$\\rightarrow$b et b$\\rightarrow$c alors nous n'avons pas mis l'arc a$\\rightarrow$c. Pour éviter les \"cours circuits\" et les chemins de longueurs. Par exemple, un cas extrême que nous avons aussi respecté localement ce serait d'avoir un arc Lille, Marseille. Cela est sans intérêt. Nous relions des villes aux villes voisines les plus proches.\n",
    "\n",
    "Enfin pour récupérer rapidement les variables de notre modèle. Nous avons fait un BOT qui permet d'aller faire du scraping sur Mappy. Nous vous présenterons plus tard ces algorithmes.\n"
   ]
  },
  {
   "cell_type": "markdown",
   "metadata": {},
   "source": [
    "Ci-dessous, nous avons mis dans un fichier txt tous les arcs que nous avons sélectionnés pour faire notre réseau routier.\n",
    "\n",
    "Nous avons choisi, des villes de manière à avoir plusieurs chemins entre des villes en passant ou non pas des péages pour que les contraintes soient actives. Sur Mappy, nous avons récupéré les valeurs qui correspondent au plus court chemin en temps entre deux villes. Dès que possible le GPS prend l'autoroute donc le péage car c'est souvent par-là que passe le plus court chemin en temps. C'est pourquoi nous avons aussi mis des petites villes pour relier des grandes villes et donc avoir des chemins alternatifs plus long en distance mais avec moins de contraintes de péage. Nous avons fait aussi attention de ne pas cours circuiter des villes.\n",
    "Le choix des villes a été une partie importante pour la réalisation de ce GPS.\n"
   ]
  },
  {
   "cell_type": "code",
   "execution_count": 2,
   "metadata": {
    "scrolled": true
   },
   "outputs": [
    {
     "data": {
      "text/html": [
       "<div>\n",
       "<style scoped>\n",
       "    .dataframe tbody tr th:only-of-type {\n",
       "        vertical-align: middle;\n",
       "    }\n",
       "\n",
       "    .dataframe tbody tr th {\n",
       "        vertical-align: top;\n",
       "    }\n",
       "\n",
       "    .dataframe thead th {\n",
       "        text-align: right;\n",
       "    }\n",
       "</style>\n",
       "<table border=\"1\" class=\"dataframe\">\n",
       "  <thead>\n",
       "    <tr style=\"text-align: right;\">\n",
       "      <th></th>\n",
       "      <th>Ville_depart</th>\n",
       "      <th>Ville_arrivee</th>\n",
       "    </tr>\n",
       "  </thead>\n",
       "  <tbody>\n",
       "    <tr>\n",
       "      <th>0</th>\n",
       "      <td>GENEVE</td>\n",
       "      <td>DIJON</td>\n",
       "    </tr>\n",
       "    <tr>\n",
       "      <th>1</th>\n",
       "      <td>NANTES</td>\n",
       "      <td>BREST</td>\n",
       "    </tr>\n",
       "    <tr>\n",
       "      <th>2</th>\n",
       "      <td>SAINT-BREVIN</td>\n",
       "      <td>NANTES</td>\n",
       "    </tr>\n",
       "    <tr>\n",
       "      <th>3</th>\n",
       "      <td>TARBES</td>\n",
       "      <td>TOULOUSE</td>\n",
       "    </tr>\n",
       "    <tr>\n",
       "      <th>4</th>\n",
       "      <td>TARBES</td>\n",
       "      <td>PAU</td>\n",
       "    </tr>\n",
       "    <tr>\n",
       "      <th>...</th>\n",
       "      <td>...</td>\n",
       "      <td>...</td>\n",
       "    </tr>\n",
       "    <tr>\n",
       "      <th>93</th>\n",
       "      <td>BESANCON</td>\n",
       "      <td>GENEVE</td>\n",
       "    </tr>\n",
       "    <tr>\n",
       "      <th>94</th>\n",
       "      <td>BORDEAUX</td>\n",
       "      <td>LIMOGES</td>\n",
       "    </tr>\n",
       "    <tr>\n",
       "      <th>95</th>\n",
       "      <td>LILLE</td>\n",
       "      <td>AMIENS</td>\n",
       "    </tr>\n",
       "    <tr>\n",
       "      <th>96</th>\n",
       "      <td>AMIENS</td>\n",
       "      <td>LAON</td>\n",
       "    </tr>\n",
       "    <tr>\n",
       "      <th>97</th>\n",
       "      <td>NICE</td>\n",
       "      <td>MONACO</td>\n",
       "    </tr>\n",
       "  </tbody>\n",
       "</table>\n",
       "<p>98 rows × 2 columns</p>\n",
       "</div>"
      ],
      "text/plain": [
       "    Ville_depart Ville_arrivee\n",
       "0         GENEVE         DIJON\n",
       "1         NANTES         BREST\n",
       "2   SAINT-BREVIN        NANTES\n",
       "3         TARBES      TOULOUSE\n",
       "4         TARBES           PAU\n",
       "..           ...           ...\n",
       "93      BESANCON        GENEVE\n",
       "94      BORDEAUX       LIMOGES\n",
       "95         LILLE        AMIENS\n",
       "96        AMIENS          LAON\n",
       "97          NICE        MONACO\n",
       "\n",
       "[98 rows x 2 columns]"
      ]
     },
     "execution_count": 2,
     "metadata": {},
     "output_type": "execute_result"
    }
   ],
   "source": [
    "data = pd.read_table(\"Reseaux_routier_3.txt\", sep=\";\")\n",
    "data"
   ]
  },
  {
   "cell_type": "markdown",
   "metadata": {},
   "source": [
    "# scraping"
   ]
  },
  {
   "cell_type": "markdown",
   "metadata": {},
   "source": [
    "Pour faire ce bot, nous avons utiliser le package Selenium, qui utilise un driver. Nous avons du installer sur notre ordinateur  le driver suivant :"
   ]
  },
  {
   "cell_type": "code",
   "execution_count": 3,
   "metadata": {},
   "outputs": [
    {
     "data": {
      "image/jpeg": "[encoded data removed]",
      "text/plain": [
       "<IPython.core.display.Image object>"
      ]
     },
     "execution_count": 3,
     "metadata": {},
     "output_type": "execute_result"
    }
   ],
   "source": [
    "Image(\"C:\\\\Users\\\\baptc\\\\Documents\\\\GM\\\\optimisation disc\\\\projet\\\\driver.JPG\")"
   ]
  },
  {
   "cell_type": "markdown",
   "metadata": {},
   "source": [
    "On peut l'installer simplement mais sans ce driver le code suivant ne va pas compiler."
   ]
  },
  {
   "cell_type": "code",
   "execution_count": 4,
   "metadata": {},
   "outputs": [],
   "source": [
    "# Package pour le BOT\n",
    "\n",
    "import selenium\n",
    "from selenium import webdriver\n",
    "from selenium.webdriver.common.keys import Keys\n",
    "from selenium.webdriver.common.by import By\n",
    "from selenium.webdriver.support.ui import WebDriverWait\n",
    "from selenium.webdriver.support import expected_conditions as EC\n",
    "\n",
    "# Dans le Bot nous utiliserons le package time qui permet de marquer des pauses\n",
    "# dans l'execution du programme car si on envoie trop de requete alors on se fait\n",
    "# bloquer notre adresse IP et on ne peut plus accèder au site.\n",
    "# pour cela nous avons marqué des remps d'arrêt aléatoire entre nos requetes\n",
    "\n",
    "import time\n",
    "from random import *"
   ]
  },
  {
   "cell_type": "markdown",
   "metadata": {},
   "source": [
    "La fonction si dessous prend en argument, le dataframe dans que nous allons retourner, la liste des valeurs que nous allons ajouter au dataframe et il nous faut aussi le nom des colonnes du dataframe dans la façon dont nous avons codé cette fonction."
   ]
  },
  {
   "cell_type": "code",
   "execution_count": 5,
   "metadata": {},
   "outputs": [],
   "source": [
    "def ajout_ville(data, liste, nom_colonne):\n",
    "    if not (\n",
    "        (liste[0] in data.iloc[:, 0])\n",
    "        and (liste[1] in data.iloc[:, 1])\n",
    "        or (liste[1] in data.iloc[:, 0])\n",
    "        and (liste[0] in data.iloc[:, 1])\n",
    "    ):\n",
    "        df_new_line = pd.DataFrame([liste], columns=nom_colonne)\n",
    "        data = pd.concat([data, df_new_line], ignore_index=True)\n",
    "    return data"
   ]
  },
  {
   "cell_type": "markdown",
   "metadata": {},
   "source": [
    "Plutot que de traiter les données une fois celle ci recoltées. Nous avons choisi de les mettre aux formats que nous voulions. Dans le BOT nous avons récupéré par exemple des valeurs sous forme de String et ils fallaient envisager toutes les possibilités et les caster en int."
   ]
  },
  {
   "cell_type": "markdown",
   "metadata": {},
   "source": [
    "Une fonction pour mettre le temps en minute qui prend un string et retourne un int"
   ]
  },
  {
   "cell_type": "code",
   "execution_count": 6,
   "metadata": {},
   "outputs": [],
   "source": [
    "def dureeToMin(heure):\n",
    "    reg = re.compile(\"(.*) h (.*)\").search(heure)\n",
    "    if reg != None:\n",
    "        return int(reg[1]) * 60 + int(reg[2])\n",
    "    reg = re.compile(\"(.*) min\").search(heure)\n",
    "    if reg != None:\n",
    "        return int(reg[1])"
   ]
  },
  {
   "cell_type": "markdown",
   "metadata": {},
   "source": [
    "Une fonction qui prend le carburant en string et retourne un int"
   ]
  },
  {
   "cell_type": "code",
   "execution_count": 7,
   "metadata": {},
   "outputs": [],
   "source": [
    "def carbuToInt(carbu):\n",
    "    reg = re.compile(\"(.*),(.*) €\").search(carbu)\n",
    "    if reg != None:\n",
    "        return int(reg[1]) + int(reg[2]) * 0.01\n",
    "    reg = re.compile(\"(.*) €\").search(carbu)\n",
    "    if reg != None:\n",
    "        return int(reg[1])"
   ]
  },
  {
   "cell_type": "markdown",
   "metadata": {},
   "source": [
    "Une fonction qui prend une distance en string et retourne un int"
   ]
  },
  {
   "cell_type": "code",
   "execution_count": 8,
   "metadata": {},
   "outputs": [],
   "source": [
    "def distanceToInt(distance):\n",
    "    reg = re.compile(\"(.*),(.*) km\").search(distance)\n",
    "    if reg != None:\n",
    "        return int(reg[1]) + int(reg[2]) * 0.01\n",
    "    reg = re.compile(\"(.*) km\").search(distance)\n",
    "    if reg != None:\n",
    "        return int(reg[1])"
   ]
  },
  {
   "cell_type": "markdown",
   "metadata": {},
   "source": [
    "Une fonction qui prend le coût des péages en string et retourne un int"
   ]
  },
  {
   "cell_type": "code",
   "execution_count": 9,
   "metadata": {},
   "outputs": [],
   "source": [
    "def peageToInt(peage):\n",
    "    reg = re.compile(\"(.*),(.*) €\").search(peage)\n",
    "    if reg != None:\n",
    "        return int(reg[1]) + int(reg[2]) * 0.01\n",
    "    reg = re.compile(\"(.*) €\").search(peage)\n",
    "    if reg != None:\n",
    "        return int(reg[1])"
   ]
  },
  {
   "cell_type": "markdown",
   "metadata": {},
   "source": [
    "Voici le code du BOT"
   ]
  },
  {
   "cell_type": "markdown",
   "metadata": {},
   "source": [
    "Quand on fait un BOT, les sites ont souvent des technos anti-BOT et donc si on fait trop de requete, qu'on reste connecté trop longtemps où que l'on fait trop de connexion ou deconnexion alors le progamme échoue avec une erreur de type \"impossible d'établir une connexion vers le site cible\""
   ]
  },
  {
   "cell_type": "markdown",
   "metadata": {},
   "source": [
    "Pour cela, nous avons fait en sorte que si le programme plante alors il se relance lui meme à l'endroit où il a planté."
   ]
  },
  {
   "cell_type": "code",
   "execution_count": null,
   "metadata": {
    "scrolled": false
   },
   "outputs": [],
   "source": [
    "\"\"\"\n",
    "Pour parcourir toutes les villes nous avons fait une boucle for. \n",
    "Cependant, la condition dans le for ne peut être dynamique.\n",
    "C'est pourquoi nous avons défini cpt1 en globable qui va permet\n",
    "au relancement (on relance la boucle for donc plus de problème de condition\n",
    "dynamique) de l'algorithme de reprendre là où l'on était rendu\n",
    "\n",
    "\"\"\"\n",
    "global cpt1\n",
    "cpt1 = 0\n",
    "\n",
    "# création et initialisation du dataframe de retour\n",
    "\n",
    "nom_colonne = [\"depart\", \"arrive\", \"distance\", \"carbu\", \"peage\", \"duree\"]\n",
    "villes = pd.DataFrame(columns=nom_colonne)\n",
    "\n",
    "# on va faire tourner l'algo tant que l'on a pas scrapé toutes les villes\n",
    "\n",
    "while cpt1 != data.shape[0]:\n",
    "    # Si on a une erreur de deconnexion alors on a une exception et on relance\n",
    "    # la boucle while a partir de cpt1\n",
    "    try:\n",
    "        liste = []\n",
    "        PATH = \"C:\\Program Files (x86)\\chromedriver.exe\"\n",
    "        cpt = cpt1\n",
    "\n",
    "        # on créer une instance driver pour interagir avec google chrome\n",
    "\n",
    "        driver = webdriver.Chrome(PATH)\n",
    "        driver.get(\"https://fr.mappy.com/itineraire\")\n",
    "\n",
    "        # on clique sur le bouton pour accepter les cookies \"premiere securitée\"\n",
    "        # contre les BOTs\n",
    "\n",
    "        try:\n",
    "            # Si la connexion n'est pas bonne on laisse 10 secondes pour\n",
    "            # que la page s'actualise\n",
    "\n",
    "            element = WebDriverWait(driver, 10).until(\n",
    "                EC.presence_of_element_located(\n",
    "                    (By.ID, \"didomi-notice-agree-button\")\n",
    "                )  # on peut aussi mettre CLASS_NAME\n",
    "            )\n",
    "            element.click()\n",
    "        except:\n",
    "            driver.quit()\n",
    "\n",
    "        for i in range(cpt, data.shape[0]):\n",
    "            # on entre dans la barre de recherche le nom de la ville de départ\n",
    "            try:\n",
    "                search = WebDriverWait(driver, 10).until(\n",
    "                    EC.presence_of_element_located(\n",
    "                        (\n",
    "                            By.XPATH,\n",
    "                            \"//input[@class='src-domain-header-SearchInput__SearchInput_field--2IEPV src-domain-header-SearchInput__SearchInput_minimized--v18iV src-domain-itinerary-ItineraryHeaderForm__SearchInput_default--vNJTa src-domain-itinerary-ItineraryHeaderForm__SearchInput_unfocus--1Dph7 src-domain-itinerary-ItineraryHeaderForm__SearchInput_departure--30n_-']\",\n",
    "                        )\n",
    "                    )  # on peut aussi mettre CLASS_NAME\n",
    "                )\n",
    "                search.clear()\n",
    "                search.send_keys(data[\"Ville_depart\"][i])\n",
    "                search.send_keys(Keys.RETURN)\n",
    "\n",
    "            except:\n",
    "                print(\"erreur ville depart \" + data[\"Ville_depart\"][i])\n",
    "\n",
    "            liste.append(data[\"Ville_depart\"][i])\n",
    "\n",
    "            # on entre dans la barre de recherche le nom de la ville de d'arrivée\n",
    "            try:\n",
    "                search = WebDriverWait(driver, 10).until(\n",
    "                    EC.presence_of_element_located(\n",
    "                        (\n",
    "                            By.XPATH,\n",
    "                            \"//input[@class='src-domain-header-SearchInput__SearchInput_field--2IEPV src-domain-header-SearchInput__SearchInput_minimized--v18iV src-domain-itinerary-ItineraryHeaderForm__SearchInput_default--vNJTa src-domain-itinerary-ItineraryHeaderForm__SearchInput_unfocus--1Dph7 src-domain-itinerary-ItineraryHeaderForm__SearchInput_arrival--3T2pX']\",\n",
    "                        )\n",
    "                    )  # on peut aussi mettre CLASS_NAME\n",
    "                )\n",
    "                search.clear()\n",
    "                search.send_keys(data[\"Ville_arrivee\"][i])\n",
    "                search.send_keys(Keys.RETURN)\n",
    "\n",
    "            except:\n",
    "                print(\"erreur ville d'arrivée \" + data[\"Ville_arrivee\"][i])\n",
    "\n",
    "            liste.append(data[\"Ville_arrivee\"][i])\n",
    "\n",
    "            # on clique sur un bouton pour avoir le détail du trajet\n",
    "\n",
    "            try:\n",
    "                element = WebDriverWait(driver, 10).until(\n",
    "                    EC.presence_of_element_located(\n",
    "                        (\n",
    "                            By.CLASS_NAME,\n",
    "                            \"src-domain-itinerary-GoToRoadbookButton__GoToRoadbookButton--3Mn6c\",\n",
    "                        )\n",
    "                    )  # on peut aussi mettre CLASS_NAME\n",
    "                )\n",
    "                time.sleep(1)\n",
    "                element.click()\n",
    "            except:\n",
    "                driver.quit()\n",
    "\n",
    "            time.sleep(4)\n",
    "            # on recupere la duree, la distance, le carburant, peage\n",
    "\n",
    "            distance = driver.find_element_by_xpath(\n",
    "                \"//div[@class='src-domain-itinerary-roadbook-RoadbookSummary__SummaryItem--1CJFe length']\"\n",
    "            )\n",
    "            distance = distanceToInt(\n",
    "                distance.find_element_by_class_name(\n",
    "                    \"src-domain-itinerary-roadbook-RoadbookSummary__SummaryItemValue--1W6Ec\"\n",
    "                ).text\n",
    "            )\n",
    "\n",
    "            liste.append(distance)\n",
    "\n",
    "            carbu = driver.find_element_by_xpath(\n",
    "                \"//div[@class='src-domain-itinerary-roadbook-RoadbookSummary__SummaryItem--1CJFe fuel_price']\"\n",
    "            )\n",
    "            carbu = carbuToInt(\n",
    "                carbu.find_element_by_class_name(\n",
    "                    \"src-domain-itinerary-roadbook-RoadbookSummary__SummaryItemValue--1W6Ec\"\n",
    "                ).text\n",
    "            )\n",
    "\n",
    "            liste.append(carbu)\n",
    "\n",
    "            try:\n",
    "                peage = driver.find_element_by_xpath(\n",
    "                    \"//div[@class='src-domain-itinerary-roadbook-RoadbookSummary__SummaryItem--1CJFe toll_price']\"\n",
    "                )\n",
    "                peage = peageToInt(\n",
    "                    peage.find_element_by_class_name(\n",
    "                        \"src-domain-itinerary-roadbook-RoadbookSummary__SummaryItemValue--1W6Ec\"\n",
    "                    ).text\n",
    "                )\n",
    "                liste.append(peage)\n",
    "            except:\n",
    "                liste.append(0)\n",
    "\n",
    "            duree = driver.find_element_by_xpath(\n",
    "                \"//div[@class='src-domain-itinerary-roadbook-RoadbookSummary__SummaryItem--1CJFe duration']\"\n",
    "            )\n",
    "            duree = dureeToMin(\n",
    "                duree.find_element_by_class_name(\n",
    "                    \"src-domain-itinerary-roadbook-RoadbookSummary__SummaryItemValue--1W6Ec\"\n",
    "                ).text\n",
    "            )\n",
    "\n",
    "            liste.append(duree)\n",
    "\n",
    "            cpt += 1\n",
    "\n",
    "            # on ajoute la villes\n",
    "\n",
    "            villes = ajout_ville(villes, liste, nom_colonne)\n",
    "\n",
    "            # on retourne en arrière en cliquant sur le bouton de retour\n",
    "            driver.back()\n",
    "            driver.back()\n",
    "            liste.clear()\n",
    "        cpt1 = cpt\n",
    "    except:\n",
    "        cpt1 = cpt\n",
    "driver.quit()"
   ]
  },
  {
   "cell_type": "code",
   "execution_count": 12,
   "metadata": {
    "scrolled": false
   },
   "outputs": [
    {
     "data": {
      "text/html": [
       "<div>\n",
       "<style scoped>\n",
       "    .dataframe tbody tr th:only-of-type {\n",
       "        vertical-align: middle;\n",
       "    }\n",
       "\n",
       "    .dataframe tbody tr th {\n",
       "        vertical-align: top;\n",
       "    }\n",
       "\n",
       "    .dataframe thead th {\n",
       "        text-align: right;\n",
       "    }\n",
       "</style>\n",
       "<table border=\"1\" class=\"dataframe\">\n",
       "  <thead>\n",
       "    <tr style=\"text-align: right;\">\n",
       "      <th></th>\n",
       "      <th>depart</th>\n",
       "      <th>arrive</th>\n",
       "      <th>distance</th>\n",
       "      <th>carbu</th>\n",
       "      <th>peage</th>\n",
       "      <th>duree</th>\n",
       "    </tr>\n",
       "  </thead>\n",
       "  <tbody>\n",
       "    <tr>\n",
       "      <th>0</th>\n",
       "      <td>GENEVE</td>\n",
       "      <td>DIJON</td>\n",
       "      <td>264</td>\n",
       "      <td>21.09</td>\n",
       "      <td>26.7</td>\n",
       "      <td>160</td>\n",
       "    </tr>\n",
       "    <tr>\n",
       "      <th>1</th>\n",
       "      <td>NANTES</td>\n",
       "      <td>BREST</td>\n",
       "      <td>297</td>\n",
       "      <td>23.83</td>\n",
       "      <td>0.0</td>\n",
       "      <td>208</td>\n",
       "    </tr>\n",
       "    <tr>\n",
       "      <th>2</th>\n",
       "      <td>SAINT-BREVIN</td>\n",
       "      <td>NANTES</td>\n",
       "      <td>69</td>\n",
       "      <td>5.79</td>\n",
       "      <td>0.0</td>\n",
       "      <td>74</td>\n",
       "    </tr>\n",
       "    <tr>\n",
       "      <th>3</th>\n",
       "      <td>TARBES</td>\n",
       "      <td>TOULOUSE</td>\n",
       "      <td>158</td>\n",
       "      <td>12.78</td>\n",
       "      <td>8.8</td>\n",
       "      <td>113</td>\n",
       "    </tr>\n",
       "    <tr>\n",
       "      <th>4</th>\n",
       "      <td>TARBES</td>\n",
       "      <td>PAU</td>\n",
       "      <td>45.09</td>\n",
       "      <td>3.86</td>\n",
       "      <td>2.8</td>\n",
       "      <td>46</td>\n",
       "    </tr>\n",
       "    <tr>\n",
       "      <th>...</th>\n",
       "      <td>...</td>\n",
       "      <td>...</td>\n",
       "      <td>...</td>\n",
       "      <td>...</td>\n",
       "      <td>...</td>\n",
       "      <td>...</td>\n",
       "    </tr>\n",
       "    <tr>\n",
       "      <th>93</th>\n",
       "      <td>BESANCON</td>\n",
       "      <td>GENEVE</td>\n",
       "      <td>177</td>\n",
       "      <td>14.50</td>\n",
       "      <td>0.0</td>\n",
       "      <td>163</td>\n",
       "    </tr>\n",
       "    <tr>\n",
       "      <th>94</th>\n",
       "      <td>BORDEAUX</td>\n",
       "      <td>LIMOGES</td>\n",
       "      <td>222</td>\n",
       "      <td>17.98</td>\n",
       "      <td>0.0</td>\n",
       "      <td>174</td>\n",
       "    </tr>\n",
       "    <tr>\n",
       "      <th>95</th>\n",
       "      <td>LILLE</td>\n",
       "      <td>AMIENS</td>\n",
       "      <td>140</td>\n",
       "      <td>11.38</td>\n",
       "      <td>9.3</td>\n",
       "      <td>118</td>\n",
       "    </tr>\n",
       "    <tr>\n",
       "      <th>96</th>\n",
       "      <td>AMIENS</td>\n",
       "      <td>LAON</td>\n",
       "      <td>130</td>\n",
       "      <td>10.47</td>\n",
       "      <td>8.5</td>\n",
       "      <td>86</td>\n",
       "    </tr>\n",
       "    <tr>\n",
       "      <th>97</th>\n",
       "      <td>NICE</td>\n",
       "      <td>MONACO</td>\n",
       "      <td>21.01</td>\n",
       "      <td>1.88</td>\n",
       "      <td>2.4</td>\n",
       "      <td>37</td>\n",
       "    </tr>\n",
       "  </tbody>\n",
       "</table>\n",
       "<p>98 rows × 6 columns</p>\n",
       "</div>"
      ],
      "text/plain": [
       "          depart    arrive distance  carbu  peage duree\n",
       "0         GENEVE     DIJON      264  21.09   26.7   160\n",
       "1         NANTES     BREST      297  23.83    0.0   208\n",
       "2   SAINT-BREVIN    NANTES       69   5.79    0.0    74\n",
       "3         TARBES  TOULOUSE      158  12.78    8.8   113\n",
       "4         TARBES       PAU    45.09   3.86    2.8    46\n",
       "..           ...       ...      ...    ...    ...   ...\n",
       "93      BESANCON    GENEVE      177  14.50    0.0   163\n",
       "94      BORDEAUX   LIMOGES      222  17.98    0.0   174\n",
       "95         LILLE    AMIENS      140  11.38    9.3   118\n",
       "96        AMIENS      LAON      130  10.47    8.5    86\n",
       "97          NICE    MONACO    21.01   1.88    2.4    37\n",
       "\n",
       "[98 rows x 6 columns]"
      ]
     },
     "execution_count": 12,
     "metadata": {},
     "output_type": "execute_result"
    }
   ],
   "source": [
    "villes"
   ]
  },
  {
   "cell_type": "markdown",
   "metadata": {},
   "source": [
    "# exporter les données"
   ]
  },
  {
   "cell_type": "code",
   "execution_count": 13,
   "metadata": {},
   "outputs": [],
   "source": [
    "villes.to_csv(\"Reseaux_routier_VF\", header=True, encoding=\"utf-8\")"
   ]
  },
  {
   "cell_type": "code",
   "execution_count": null,
   "metadata": {},
   "outputs": [],
   "source": []
  }
 ],
 "metadata": {
  "kernelspec": {
   "display_name": "Python 3",
   "language": "python",
   "name": "python3"
  },
  "language_info": {
   "codemirror_mode": {
    "name": "ipython",
    "version": 3
   },
   "file_extension": ".py",
   "mimetype": "text/x-python",
   "name": "python",
   "nbconvert_exporter": "python",
   "pygments_lexer": "ipython3",
   "version": "3.8.5"
  }
 },
 "nbformat": 4,
 "nbformat_minor": 4
}

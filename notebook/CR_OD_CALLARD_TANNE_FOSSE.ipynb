{
 "cells": [
  {
   "cell_type": "markdown",
   "metadata": {},
   "source": [
    "# Plus court chemin sous contraintes."
   ]
  },
  {
   "cell_type": "markdown",
   "metadata": {},
   "source": [
    "## Introduction : Description du problème\n",
    "\n",
    "--- \n",
    "\n",
    "Le plus court chemin dans un graphe orienté est un problème qui est très connu. Sa résolution emploi la programmation dynamique et les algorithme les plus connus pour résoudre ce genre de problèmes sont bien entendu les algorithmes de **dijkstra** ou encore de **Bellman-Ford**. Cependant que se passe-t-il si l'on souhaite trouver le plus court chemin mais que ce dernier respecte certaines contraintes imposées, typiquement vous souhaitez faire un trajet Pau-Rennes le plus court possible en km mais avec un certain budget en terme d'essence et/ou de péage ?\n",
    "\n",
    "C'est ce problème qui va nous intéresser dans le rapport qui suit. Allant de la programmation linéaire en nombre entier associée à ce problème via le language de modélisation **Pulp** en passant par les algorithmes de résolutions sur des graphes, nous allons traiter plusieurs aspects de ce problèmes afin de mieux le comprendre.\n",
    "\n",
    "Ce problème rentre dans le cadre des problèmes **NP-difficile**, c'est à dire que contrairement à son petit frère (plus court chemin sans contraintes) sa résolution ne peut pas s'effectuer en temps polynomial. La complexité algorithmique associée à ce problème sera très importante il nous faudra ainsi être très vigilant sur notre modélisation afin de réduire au maximum les temps de calcul."
   ]
  },
  {
   "cell_type": "markdown",
   "metadata": {},
   "source": [
    "## Importation des différents package"
   ]
  },
  {
   "cell_type": "code",
   "execution_count": 1,
   "metadata": {},
   "outputs": [],
   "source": [
    "import os\n",
    "\n",
    "os.chdir(os.path.join(\"..\"))"
   ]
  },
  {
   "cell_type": "code",
   "execution_count": 2,
   "metadata": {},
   "outputs": [],
   "source": [
    "import networkx as nx\n",
    "import numpy as np\n",
    "from time import time\n",
    "from src.graphs import *\n",
    "from src.models import *\n",
    "from src.tools import *\n",
    "from src.vizu import *\n",
    "\n",
    "%matplotlib inline"
   ]
  },
  {
   "cell_type": "markdown",
   "metadata": {},
   "source": [
    "Pour ce projet, nottament pour la dernière partie, nous avons lu des fichier de type csv. De facon à pouvoir lire ces fichiers vous aussi pour pouvoir voir l'application concrète finale, nous vous invitons à mettre ici votre répertoir courant (chemin d'accès aux fichiers)"
   ]
  },
  {
   "cell_type": "markdown",
   "metadata": {},
   "source": [
    "## Programmation linéaire en nombre entier (PLNE) via Pulp"
   ]
  },
  {
   "cell_type": "markdown",
   "metadata": {},
   "source": [
    "### Premier modèle : modélisation avec des matrice"
   ]
  },
  {
   "cell_type": "markdown",
   "metadata": {},
   "source": [
    "#### Présentation théorique (PLNE)."
   ]
  },
  {
   "cell_type": "markdown",
   "metadata": {},
   "source": [
    "On aura comme données principales du problème :\n",
    "\n",
    "- Un sommet source $s$ (départ) et un sommet puit $t$ (arrivée).\n",
    "\n",
    "\n",
    "- Une matrice $C \\in M_N(\\mathbb{R})$, avec $N$ le nombre de sommets dans le graphe dans lequel nous cherchons notre plus court chemin. C'est une matrice carrée tel que $C_{i,j}$ représente le cout pour faire une transition de i en j. Il faut ainsi trouver dans la matrice le chemin le plus court.\n",
    "\n",
    "\n",
    "- Cependant comment savoir si une transition est possible entre un sommet i et un sommet j, par quelle valeur la représenter dans la matrice $C$ ? Pour répondre à cela nous introduisons une deuxième matrice qui est la matrice $A \\in M_N(\\{0,1\\})$ (matrice binaire de même taille que C), qui est la matrice d'adjacence de notre graphe définit par $A_{i,j} = 1$ ssi on peut aller de i en j, et $0$ sinon.\n",
    "\n",
    "\n",
    "- On aura ensuite un dictionnaire $R$, qui sera en fait le dictionnaire des contraintes à ne pas dépasser. A chaque clé $r$ du dictionnaire correspond une matrice $R_r \\in M_N(\\mathbb{R})$ tq $(R_r)_{i,j}$ correspond à la consommation de la ressource r sur le chemin de i à j.\n",
    "\n",
    "Ici le choix d'une matrice a été dicté par la facilité de visualisation du problème, mais aussi pour la facilité de génération d'instances de test pour vérifier le bon fonctionnement du modèle.\n",
    "\n",
    "\n",
    "**Variables :**\n",
    "\n",
    "Ainsi notre variable sera une matrice binaire $X$ tq : $X_{i,j}=1$ ssi on emprunte le chemin pour aller du sommet i à la ville j.\n",
    "\n",
    "Ainsi la fonction objectif à minimiser sera : $\\sum_i \\sum_ j X_{i,j}C_{i,j}$. L'objectif est simplement la somme de tous les couts des branches que l'on considère.\n",
    "\n",
    "**Contraintes :** \n",
    "\n",
    "<ins>*Contraintes générales :*<ins>\n",
    "\n",
    "Dans un premier temps, il y a des contraintes qui arrivent tout de suite, à savoir on part de la ville s et on arrive à la ville t. Ces deux contraintes se traduisent par :\n",
    "- $\\sum_i X_{i,t} = 1$ on doit forcément arriver à la ville t, et on ne fait qu’un seul passage dans la ville t\n",
    "\n",
    "- $\\sum_j X_{s,j} = 1$ on doit forcément partir de la ville s, et on ne part de la ville s qu'une seule fois, on ne doit pas revenir dans la ville s.\n",
    "\n",
    "Nous devons aussi vérifier que les arcs que nous empruntons dans notre chemin existent. Cette contrainte se traduit par :\n",
    "\n",
    "- $X_{i,j}\\leq A_{i,j}$ pour tout (i,j)\n",
    "\n",
    "\n",
    "Ensuite il faut définir des contraintes qui permettent justement de construire un chemin dans la matrice. Une idée qui vient naturellement quand on construit un chemin est que quand à une étape intermédiaire on arrive dans une ville, ensuite à l'étape d'après on doit reprendre le chemin depuis cette ville.\n",
    "Ainsi si depuis une ville i on arrive dans une ville $i \\neq \\{s,t\\}$, cela se traduit par $\\sum_j X_{j,i} =1$, alors, on doit repartir de cette ville donc $\\sum_j X_{i,j}=1$, mais à l'inverse si à aucun moment on n'arrive dans i, alors $\\sum_j X_{j,i} =0$ et ainsi on ne doit pas partir de i, d'où $\\sum_j X_{i,j}=0$. Ce qui nous mène à la contrainte suivante :\n",
    "\n",
    "- $\\forall i \\neq \\{s,t\\} \\sum_j X_{i,j} = \\sum_j X_{j,i}$ si on arrive dans une ville ensuite on repart de cette ville\n",
    "\n",
    "On peut aussi définir les deux contraintes suivantes :\n",
    "\n",
    "- $\\sum_j X_{t,j} = 0$ depuis la dernière ville on ne va nulle part, car c'est la ville d'arrivée\n",
    "- $\\sum_i X_{i,s} = 0$ la première colonne ne doit contenir aucun 1. Sinon il y a une boucle et pour le plus court chemin on n’en veut pas\n",
    "\n",
    "<ins>*Contrainte liée aux consommations de ressources :*<ins>\n",
    "\n",
    "Le modèle qui vient d'être décrit, permet simplement de trouver un plus court chemin dans un graphe. Il faut ainsi maintenant rajouter les contraintes de ressources.\n",
    "\n",
    "On aura aussi un dictionnaire python $b$, tel que les clés de ce dictionnaire sont les même que les clés du dictionnaire $R$, tel que $b[r]$ donne la limite de la ressource $r$ à ne pas dépasser sur notre chemin final. \n",
    "\n",
    "Et ainsi une nouvelle contrainte apparait :\n",
    "\n",
    "- $\\forall r \\in R~~\\sum_i \\sum_ j X_{i,j}(R_r)_{i,j} \\leq b[r]$\n",
    "\n",
    "Toutes nos contraintes sont en place, on peut maintenant créer notre modèle Pulp."
   ]
  },
  {
   "cell_type": "markdown",
   "metadata": {},
   "source": [
    "#### Modélisation sous Pulp"
   ]
  },
  {
   "cell_type": "markdown",
   "metadata": {},
   "source": [
    "#### Test de ce premier modèle"
   ]
  },
  {
   "cell_type": "markdown",
   "metadata": {},
   "source": [
    "Parce que un algorithme non testé ne vaut rien nous allons réalisé des test sur des instances dont nous connaissons les solutions théoriques (comme des exemples traités en cours) de facon à venir valider notre modèle Pulp"
   ]
  },
  {
   "cell_type": "code",
   "execution_count": 3,
   "metadata": {},
   "outputs": [
    {
     "name": "stdout",
     "output_type": "stream",
     "text": [
      "Status: Optimal\n"
     ]
    },
    {
     "data": {
      "text/plain": [
       "{'statu': 'Optimal', 'trace': [0, 1, 3, 5], 'consommations': [11.0]}"
      ]
     },
     "execution_count": 3,
     "metadata": {},
     "output_type": "execute_result"
    }
   ],
   "source": [
    "g = nx.DiGraph()\n",
    "g.add_nodes_from(range(6))\n",
    "\n",
    "g.add_weighted_edges_from(\n",
    "    [\n",
    "        (3, 5, 6),\n",
    "        (5, 4, 2),\n",
    "        (4, 3, 4),\n",
    "        (3, 4, 7),\n",
    "        (2, 4, 0),\n",
    "        (3, 2, 1),\n",
    "        (1, 3, 3),\n",
    "        (1, 2, 6),\n",
    "        (2, 1, 5),\n",
    "        (0, 1, 2),\n",
    "        (0, 2, 8),\n",
    "    ]\n",
    ")\n",
    "\n",
    "C = np.zeros((6, 6))\n",
    "A = np.zeros((6, 6))\n",
    "for u, v in g.edges():\n",
    "    C[u, v] = g[u][v][\"weight\"]\n",
    "    A[u, v] = 1\n",
    "\n",
    "path_PCC(6, C, A, 0, 5, {}, {})"
   ]
  },
  {
   "cell_type": "markdown",
   "metadata": {},
   "source": [
    "On obtient ainsi bien le même résultat théorique que vu en cours. Nous allons maintenant rajouter une contrainte et faire exprès de venir satturer le chemin de la solution sans contraintes."
   ]
  },
  {
   "cell_type": "code",
   "execution_count": 4,
   "metadata": {},
   "outputs": [
    {
     "name": "stdout",
     "output_type": "stream",
     "text": [
      "Status: Optimal\n"
     ]
    },
    {
     "data": {
      "text/plain": [
       "{'statu': 'Optimal', 'trace': [0, 2, 4, 3, 5], 'consommations': [18.0, 4.0]}"
      ]
     },
     "execution_count": 4,
     "metadata": {},
     "output_type": "execute_result"
    }
   ],
   "source": [
    "g = nx.DiGraph()\n",
    "g.add_nodes_from(range(6))\n",
    "\n",
    "g.add_weighted_edges_from(\n",
    "    [\n",
    "        (3, 5, [6, 1]),\n",
    "        (5, 4, [2, 1]),\n",
    "        (4, 3, [4, 1]),\n",
    "        (3, 4, [7, 1]),\n",
    "        (2, 4, [0, 1]),\n",
    "        (3, 2, [1, 1]),\n",
    "        (1, 3, [3, 2]),\n",
    "        (1, 2, [6, 1]),\n",
    "        (2, 1, [5, 1]),\n",
    "        (0, 1, [2, 2]),\n",
    "        (0, 2, [8, 1]),\n",
    "    ]\n",
    ")\n",
    "\n",
    "C = np.zeros((6, 6))\n",
    "A = np.zeros((6, 6))\n",
    "R = {1: np.zeros((6, 6))}\n",
    "\n",
    "for u, v in g.edges():\n",
    "    C[u, v] = g[u][v][\"weight\"][0]\n",
    "    A[u, v] = 1\n",
    "    R[1][u, v] = g[u][v][\"weight\"][1]\n",
    "\n",
    "path_PCC(6, C, A, 0, 5, R, {1: 4})"
   ]
  },
  {
   "cell_type": "markdown",
   "metadata": {},
   "source": [
    "Bien que l'algorithme soit compliqué à résoudre en suivant le processus à chaque itération. Nous avons donc choisi un problème que nous avons contraint de manière à obtenir une solution que nous avions déterminé. Ainsi, nous avons choisi d'exécuter le plus court chemin avec une contrainte de ressource de 4. Chaque arc entre deux sommets est de poids 1. De plus, on a saturé en ressource la solution du problème de plus court chemin sans ressource de manière à ne pas l'emprunter. Le plus court chemin était de longueur 3 et c'est le seul. Donc si on n'utilise pas ce chemin alors le chemin aura un cout au moins de 4. De plus il y a seulement deux chemins de longueur 4. Donc en fonction de la capacité max de la contrainte on empruntera l'un ou l'autre. Finalement, avec 4 comme contrainte max on obtient bien le chemin qui est le bon."
   ]
  },
  {
   "cell_type": "markdown",
   "metadata": {},
   "source": [
    "## Les algorithmes de graphes.\n"
   ]
  },
  {
   "cell_type": "markdown",
   "metadata": {},
   "source": [
    "### Definition d'une etiquette."
   ]
  },
  {
   "cell_type": "markdown",
   "metadata": {},
   "source": [
    "Dans le problèmes de plus court chemin classique que nous avons étudié cette année nous avions les donnée suivante :\n",
    "- G = (V,A) un graphe orienté avec un ensemble de noeuds (V) et un ensemble d'arrètes (A). Pour chaque arc $a \\in A$ du graphe on fait correspondre une valeur $E^a_0$ qui représente le poids de l'arc, c'est en quelque sorte le cout à payer pour pouvoir emprunter cet arc.\n",
    "\n",
    "\n",
    "- Dans le problème du plus court chemin sous contraintes les choses se compliquent un peu. Nous disposerons toujours d'un graphe G = (V,A), mais cette fois ci sur chaque arc $a\\in A$ nous ne disposons plus d'une valeur mais de plusieurs valeurs. Nous aurons le cout de l'arc mais aussi les valeurs qui correspondent aux consommations de ressources. Si on prend le cas où nous avons $R$ contraintes de consommation de ressources, nous aurons ainsi : que la \"valeur\" d'un arc sera un vecteur $E^a\\in \\mathbb{R}^{R+1}$, où $E^a_0$ sera le cout de l'arc, donc la valeur par rapport à laquelle il faut trouver le plus court chemin et $\\forall r\\in \\{1,\\dots,R\\}~~E^a_r$ qui sera la consommation de la ressource r sur l'arc $a$.\n",
    "\n",
    "\n",
    "- Ayant donné ces définitions préliminaires nous pouvons maintenant définir une etiquette. On se donne ainsi un sommet source (s) dans notre problème de plus court chemin. A chaque sommet i on peut faire correspondre un ou plusieurs vecteurs $E\\in\\mathbb{R}^{r+1}$. Ces vecteurs correspondront à différents chemin possibles permettant d'aller de s à i, et leurs composantes résumeront le chemin emprunté en terme de consommation de ressources et de cout. Ainsi pour un vecteur E donné, $E_0$ sera la longueur du chemin de s à i sur le chemin correspondant, et les autres composantes correspondront aux différentes consommations de ressources sur ce chemin."
   ]
  },
  {
   "cell_type": "markdown",
   "metadata": {},
   "source": [
    "### Ordre de Pareto : Une relation d'ordre sur les vecteurs."
   ]
  },
  {
   "cell_type": "markdown",
   "metadata": {},
   "source": [
    "Une difficulté appraît. En effet dans le cas où sur chaque arc, on a des nombres réelles, on peut facilement définir une **relation d'ordre** entre ces derniers. On utilise les relations d'ordre classiques sur $\\mathbb{R}$. Cependant ici sur les arcs on a des vecteurs (Etiquettes) et nous ne connaissons pas de relation d'ordre triviale sur les vecteurs de facon à classer les vecteurs entre eux. En effet il n'y a aucun sens à dire ou écrire que un vecteur E est supérieur à un vecteur E'. C'est pour cela que l'on introduit l'ordre de Pareto, qui permet de définir une pseudo relation d'ordre entre les vecteurs (Etiquettes).\n",
    "\n",
    "**Definition :**\n",
    "\n",
    "Soit $E$ et $E'$ des etiquettes. Une étiquette est un vecteur de $\\mathbb{R}^{R+1}$. On dit qu'une étiquette $E$ domine une etiquette $E'$  (on notera $E\\succ E'$) si les deux conditions suivantes sont respectées :\n",
    "\n",
    "$\\forall r \\in \\{0,\\dots,R\\}~~ E_r\\leq E'_r $\n",
    "\n",
    "$\\exists r \\in \\{0,\\dots,R\\}~~E_r<E'_r$"
   ]
  },
  {
   "cell_type": "markdown",
   "metadata": {},
   "source": [
    "### Un premier algorithme : Solution mais pas de chemin."
   ]
  },
  {
   "cell_type": "markdown",
   "metadata": {},
   "source": [
    "Dans cette section nous avons décidé de présenter l'algorithme de correction d'Etiquette dans sa version la plus simple, au sens ou l'algorithme nous donne la longueur du plus court chemin et les consommations de ressources associées mais ne nous donne pas le chemin emprunté.\n",
    "\n",
    "Cet algorithme utilise le principe de la programmation dynamique à la manière de l'algorithme de bellman-ford. On retrouve effectivement de nombreuses similarités entre les deux algorithmes."
   ]
  },
  {
   "cell_type": "markdown",
   "metadata": {},
   "source": [
    "#### Fonction pour déterminer l'ensemble de Pareto"
   ]
  },
  {
   "cell_type": "markdown",
   "metadata": {},
   "source": [
    "##### Test fonction Pareto"
   ]
  },
  {
   "cell_type": "code",
   "execution_count": 5,
   "metadata": {},
   "outputs": [
    {
     "name": "stdout",
     "output_type": "stream",
     "text": [
      "[[0 1 2 3]\n",
      " [1 1 1 1]\n",
      " [5 6 5 3]\n",
      " [6 1 2 6]\n",
      " [4 4 4 4]\n",
      " [7 8 9 0]\n",
      " [3 4 1 2]]\n"
     ]
    },
    {
     "data": {
      "text/plain": [
       "[[0, 1, 2, 3], [1, 1, 1, 1], [7, 8, 9, 0]]"
      ]
     },
     "execution_count": 5,
     "metadata": {},
     "output_type": "execute_result"
    }
   ],
   "source": [
    "E1 = [0, 1, 2, 3]\n",
    "E2 = [1, 1, 1, 1]\n",
    "E3 = np.random.randint(8, size=4)\n",
    "E4 = np.random.randint(8, size=4)\n",
    "E5 = [4, 4, 4, 4]\n",
    "E6 = [7, 8, 9, 0]\n",
    "E7 = [3, 4, 1, 2]\n",
    "\n",
    "tab = [E1, E2, E3, E4, E5, E6, E7]\n",
    "print(np.array(tab))\n",
    "Pareto(tab)"
   ]
  },
  {
   "cell_type": "markdown",
   "metadata": {},
   "source": [
    "#### L'algorithme de Correction d'Etiquette"
   ]
  },
  {
   "cell_type": "markdown",
   "metadata": {},
   "source": [
    "##### Test algorithme de correction d'etiquette"
   ]
  },
  {
   "cell_type": "markdown",
   "metadata": {},
   "source": [
    "Ici on va faire le test de cet algorithme avec des graphes qui ont été vues en cours. On commence avec le graphe du polycopié p20. Sur ce graphe, on sait que le plus court chemin sans contraintes entre 1 et 6 est le suivant : 1,2,4,6. Avec sur ce chemin un cout de 11"
   ]
  },
  {
   "cell_type": "code",
   "execution_count": 6,
   "metadata": {
    "scrolled": true
   },
   "outputs": [
    {
     "data": {
      "text/plain": [
       "[11]"
      ]
     },
     "execution_count": 6,
     "metadata": {},
     "output_type": "execute_result"
    }
   ],
   "source": [
    "g = nx.DiGraph()\n",
    "# ajout des noeuds du graphe.\n",
    "g.add_nodes_from(range(6))\n",
    "\n",
    "# on va ajouter les arrète (pas de contraintes)\n",
    "g.add_weighted_edges_from(\n",
    "    [\n",
    "        (0, 1, [2]),\n",
    "        (0, 2, [8]),\n",
    "        (1, 3, [3]),\n",
    "        (1, 2, [5]),\n",
    "        (2, 1, [6]),\n",
    "        (2, 4, [0]),\n",
    "        (3, 2, [1]),\n",
    "        (3, 4, [7]),\n",
    "        (3, 5, [6]),\n",
    "        (4, 3, [4]),\n",
    "        (5, 4, [2]),\n",
    "    ]\n",
    ")\n",
    "\n",
    "Correc_Etiq(g, 0, 5, 0, [])  # on retrouve ainsi le cout du chemin que on avait."
   ]
  },
  {
   "cell_type": "markdown",
   "metadata": {},
   "source": [
    "On peut voir ici que on retrouve le coût théorique calculé en cours mais petit bémol, l'algorithme ne donne pas le chemin qui a permis de trouver ce coût. Cependant dans ce genre de problème ce qui nous intéresse c'est principalement le coût et le chemin associé. Ainsi avant de poursuivre plus loin toute notre batterie de test nous avons décidé de modifier cet algorithme afin de récupérer le chemin."
   ]
  },
  {
   "cell_type": "markdown",
   "metadata": {},
   "source": [
    "### Amélioration du premier algorithme : Recherche de la solution et du chemin."
   ]
  },
  {
   "cell_type": "markdown",
   "metadata": {},
   "source": [
    "Notre algorithme précédent semble fonctionner mais le problème est qu'il ne nous donne que la longueur du chemin et les consommations le long de ce chemin, il ne nous donne pas le chemin en lui-même. C'est pour cela que nous avons décidé de le modifié afin de pouvoir récupérer le chemin.\n",
    "\n",
    "Le principe de l'algorithme reste exactement le même, ce qui va considérablement changer ce sont les structures de données dans lesquelles nous allons stocker les différentes étiquettes.\n",
    "\n",
    "Comme nous l'avons vu précédemment dans l'algorithme de correction d'étiquettes, à chaque nœud du graphe nous faisions correspondre un tableau d'étiquettes où chaque étiquette résume en quelque sorte le chemin pour venir jusqu'à ce sommet. Ici au lieu d'avoir un simple tableau nous aurons un dictionnaire python d'Etiquettes. Par exemple si on considère le nœuds i, le dictionnaire correspondant à ce sommet sera de la forme : \n",
    "\n",
    "$\\{k_1 : [E1,E2,E3] , k_2 : [E4,E5,E6] , \\dots\\}$\n",
    "\n",
    "\n",
    "Ceci s'interprétera de la façon suivante. Pour aller au sommet i on a le chemin résumé par l'étiquette E1 et sur ce chemin le prédécesseur de i sera $k_1$"
   ]
  },
  {
   "cell_type": "markdown",
   "metadata": {},
   "source": [
    "#### Nouvelle fonction pour l'ensemble de Pareto"
   ]
  },
  {
   "cell_type": "markdown",
   "metadata": {},
   "source": [
    "Il nous faut ainsi refaire une nouvelle fonction de Pareto."
   ]
  },
  {
   "cell_type": "markdown",
   "metadata": {},
   "source": [
    "##### Test du nouvel ensemble"
   ]
  },
  {
   "cell_type": "code",
   "execution_count": 7,
   "metadata": {
    "scrolled": true
   },
   "outputs": [
    {
     "name": "stdout",
     "output_type": "stream",
     "text": [
      "{1: [[0, 1, 2, 3], [1, 1, 1, 1], [0, 1, 2, 3]], 2: [[0, 1, 2, 3], [6, 6, 0, 2]], 3: [[0, 1, 2, 3], [3, 6, 3, 5], [4, 4, 4, 4], [7, 8, 9, 0]]}\n",
      "{1: [[0, 1, 2, 3], [1, 1, 1, 1]], 2: [[0, 1, 2, 3], [6, 6, 0, 2]], 3: [[0, 1, 2, 3], [7, 8, 9, 0]]}\n"
     ]
    }
   ],
   "source": [
    "E1 = [0, 1, 2, 3]\n",
    "E2 = [1, 1, 1, 1]\n",
    "E3 = list(np.random.randint(8, size=4))\n",
    "E4 = list(np.random.randint(8, size=4))\n",
    "E5 = [4, 4, 4, 4]\n",
    "E6 = [7, 8, 9, 0]\n",
    "E7 = [3, 4, 1, 2]\n",
    "\n",
    "tab = {1: [E1, E2, E1], 2: [E1, E3], 3: [E1, E4, E5, E6]}\n",
    "\n",
    "print(tab)\n",
    "Pareto_bis(tab)\n",
    "print(tab)"
   ]
  },
  {
   "cell_type": "markdown",
   "metadata": {},
   "source": [
    "La nouvelle fonction qui génère l'ensemble de Pareto semble fonctionner et semble bien gérer les cas où plusieurs etiquettes sont identiques. Ainsi avec cette nouvelle fonction, nous allons pouvoir modifier notre algorithme de correction d'etiquette afin de venir récupérer le chemin emprunté."
   ]
  },
  {
   "cell_type": "markdown",
   "metadata": {},
   "source": [
    "#### Correction d'Etiquette améliorée."
   ]
  },
  {
   "cell_type": "markdown",
   "metadata": {},
   "source": [
    "Nous avons écrit dans un premier temps, quelques fonctions qui vont permettre de gérer notre nouvelle modélisation par les dictionnaires.\n",
    "\n",
    "- la fonction **trans(d)** permet de prendre un dictionnaire de la forme que nous avons introduite et de ne récupérer que les étiquettes et de les mettre dans une liste python.\n",
    "\n",
    "- la fonction **recherche1** va permettre de récupérer toujours dans le dictionnaire introduit, l'étiquette dont le coût (la première composante), est le plus petit, ainsi que le prédécesseur qui a permis d'obtenir cette étiquette.\n",
    "\n",
    "- la fonction **recherche2** est notre fonction de **backtracking**, en effet comme dans tout algorithme de programmation dynamique nous avons une partie où on propage la solution et une partie où on retrouve le chemin qui a permis de trouver cette solution. La fonction est un peu particulière, pour l'expliquer nous allons nous placer à une étape k du processus de backtracking. Ainsi nous avons notre sommet courant $i_k$, avec ce sommet courant vient un vecteur $cont_k$ qui résume les consommations des ressources sur le chemin pour aller de $s$ à $i_k$. Pour trouver le prédécesseur de $i_k$ noté $i_{k-1}$ il faut trouver l'étiquette $cont_{k-1}$ dans l'ensemble des étiquettes de $i_{k-1}$, qui minimise la première composante des étiquettes sous la contrainte $cont_{k-1}[r]+g[i_{k-1}][i_k]['weight'][r] = cont_k[r]~~ \\forall r \\in \\{1,\\dots,R\\}$.\n"
   ]
  },
  {
   "cell_type": "markdown",
   "metadata": {},
   "source": [
    "##### Test du nouvel algorithme"
   ]
  },
  {
   "cell_type": "code",
   "execution_count": 8,
   "metadata": {},
   "outputs": [
    {
     "data": {
      "text/plain": [
       "{'pcc': [18, 4],\n",
       " 'trace': [1, 3, 5, 4, 6],\n",
       " 'temps': 0.0016883999999999233,\n",
       " 'etat': 'resolu'}"
      ]
     },
     "execution_count": 8,
     "metadata": {},
     "output_type": "execute_result"
    }
   ],
   "source": [
    "g = nx.DiGraph()\n",
    "# ajout des noeuds du graphe.\n",
    "g.add_nodes_from(range(1, 7))\n",
    "\n",
    "# on va ajouter les arrète (pas de contraintes)\n",
    "g.add_weighted_edges_from(\n",
    "    [\n",
    "        (1, 2, [2, 4]),\n",
    "        (1, 3, [8, 1]),\n",
    "        (2, 4, [3, 4]),\n",
    "        (2, 3, [5, 1]),\n",
    "        (3, 2, [6, 1]),\n",
    "        (3, 5, [0, 1]),\n",
    "        (4, 3, [1, 1]),\n",
    "        (4, 5, [7, 1]),\n",
    "        (4, 6, [6, 1]),\n",
    "        (5, 4, [4, 1]),\n",
    "        (6, 5, [2, 2]),\n",
    "    ]\n",
    ")\n",
    "\n",
    "# on ajoute une contrainte.\n",
    "Correc_Etiq_bis(g, 1, 6, 1, [4])"
   ]
  },
  {
   "cell_type": "markdown",
   "metadata": {},
   "source": [
    "Dans les deux cellules qui suivent nous avons comparé les résultats obtenus, entre le modèle Pulp et l'algorithme de correction d'étiquettes sur différents graphes générés à partir des fonctions que nous avons présentées plus tôt."
   ]
  },
  {
   "cell_type": "code",
   "execution_count": 9,
   "metadata": {},
   "outputs": [
    {
     "name": "stdout",
     "output_type": "stream",
     "text": [
      "{'etat': 'Impossible', 'temps': 0.0002010999999999541}\n",
      "Status: Infeasible\n",
      "{'statu': 'Infeasible'}\n"
     ]
    }
   ],
   "source": [
    "b = [50, 100, 200]\n",
    "\n",
    "g, C, A, dict_R, dict_b = make_graphe(15, 3, 200, b)\n",
    "\n",
    "s = 0\n",
    "t = 14\n",
    "\n",
    "corr = Correc_Etiq_bis(g, s, t, 3, b)\n",
    "print(corr)\n",
    "\n",
    "plp = path_PCC(15, C, A, s, t, dict_R, dict_b)\n",
    "print(plp)"
   ]
  },
  {
   "cell_type": "code",
   "execution_count": 10,
   "metadata": {
    "scrolled": true
   },
   "outputs": [
    {
     "name": "stdout",
     "output_type": "stream",
     "text": [
      "{'pcc': [135, 4, 121, 48], 'trace': [48, 12], 'temps': 0.02233969999999985, 'etat': 'resolu'}\n",
      "Status: Optimal\n",
      "{'statu': 'Optimal', 'trace': [48, 12], 'consommations': [135.0, 4.0, 121.0, 48.0]}\n"
     ]
    }
   ],
   "source": [
    "N = 70\n",
    "s, t = random_choose_node(N)\n",
    "b = [100, 200, 200]\n",
    "g, C, A, dict_R, dict_b = make_random_graphe(N, 3, 200, b, 0.6)\n",
    "\n",
    "corr = Correc_Etiq_bis(g, s, t, 3, b)\n",
    "print(corr)\n",
    "\n",
    "plp = path_PCC(N, C, A, s, t, dict_R, dict_b)\n",
    "print(plp)"
   ]
  },
  {
   "cell_type": "markdown",
   "metadata": {},
   "source": [
    "##### Mise en avant de la complexité."
   ]
  },
  {
   "cell_type": "markdown",
   "metadata": {},
   "source": [
    "Comme énoncé dans l'introduction le problème que nous traitons ici est un problème qui est **NP-difficile** et sa complexité théorique est dite \"semi polynomiale\", en effet si on considère $b_i~~i\\in \\{1,\\dots,R\\}$ les limites des contraintes, alors la complexité est donnée par $\\mathcal{O}(m\\prod_{i=1}^Rb_i)$ avec m le nombre d'arrête dans notre graphe. La complexité est ainsi dite pseudo polynomiale car elle dépend des données du problème considéré. Cependant cette complexité est une complexité dite \"au pire cas\", elle est impossible à observer dans la pratique. Le fait est que cette complexité augmente très vite quand la taille du graphe augmente.\n",
    "\n",
    "\n",
    "Pour mettre en avant ceci, nous avons calculé le temps de calcul de notre algorithme et l'avons comparé avec le temps de calcul du solveur CBC proposé par Pulp. Nous avons pour ceci généré des graphes aléatoires via notre fonction **make_random_graphe**, et avons tracé les temps de calcul en fonction du nombre de nœuds dans le graphe (N)."
   ]
  },
  {
   "cell_type": "code",
   "execution_count": 19,
   "metadata": {},
   "outputs": [],
   "source": [
    "tmp_correc = []\n",
    "tmp_pulp = []\n",
    "N_list = np.arange(5, 75, 5)\n",
    "buff_1 = []  # tampon pour venir moyenner pour l'algo\n",
    "buuf_2 = []  # tampon pour venir moyenner pour Pulp\n",
    "\n",
    "for N in N_list:\n",
    "    s, t = random_choose_node(N)\n",
    "    buff_1 = []\n",
    "    buff_2 = []\n",
    "    for i in range(10):\n",
    "        b = [200, 200, 200]\n",
    "\n",
    "        ## Correction ###\n",
    "        g, C, A, dict_R, dict_b = make_random_graphe(N, 3, 200, b, 0.6)\n",
    "        buff_1.append(Correc_Etiq_bis(g, s, t, 3, b)[\"temps\"])\n",
    "\n",
    "        ## Solveur CBC ##\n",
    "        prob = prob_PCC(N, C, A, s, t, dict_R, dict_b)\n",
    "        t1 = time()\n",
    "        prob.solve(PULP_CBC_CMD())\n",
    "        t2 = time()\n",
    "        buff_2.append(t2 - t1)\n",
    "\n",
    "    m1 = np.mean(buff_1)\n",
    "    m2 = np.mean(buff_2)\n",
    "\n",
    "    tmp_correc.append(m1)\n",
    "    tmp_pulp.append(m2)"
   ]
  },
  {
   "cell_type": "code",
   "execution_count": 20,
   "metadata": {},
   "outputs": [
    {
     "data": {
      "text/plain": [
       "<matplotlib.legend.Legend at 0x1bd996f9280>"
      ]
     },
     "execution_count": 20,
     "metadata": {},
     "output_type": "execute_result"
    },
    {
     "data": {
      "image/png": "[encoded data removed]",
      "text/plain": [
       "<Figure size 1000x1000 with 1 Axes>"
      ]
     },
     "metadata": {},
     "output_type": "display_data"
    }
   ],
   "source": [
    "fig = plt.figure(figsize=(10, 10))\n",
    "plt.scatter(N_list, tmp_correc, c=\"rebeccapurple\", label=\"corre_etiq\")\n",
    "plt.scatter(N_list, tmp_pulp, c=\"peachpuff\", label=\"Solver_CBC\")  # modèle pulp\n",
    "plt.grid()\n",
    "plt.xlabel(\"amount of nodes\")\n",
    "plt.ylabel(\"computation time\")\n",
    "plt.title(\"computation time amount of nodes\")\n",
    "plt.legend()"
   ]
  },
  {
   "cell_type": "markdown",
   "metadata": {},
   "source": [
    "Ici on peut observer plusieurs comportements intéressants :\n",
    "\n",
    "- On peut voir ici que pour de petites instances de notre problème, notre algorithme est plus rapide que le solveur CBC. Cependant quand le problème devient plus gros ($N>50)$ les temps de calcul sont relativements proches.\n",
    "\n",
    "- De plus le temps de calcul du solveur CBC semble quasiment linéaire, tandis que celui de notre algorithme se rapproche plus d'un comportement exponnentiel, avec une explosion à partir de N=50.\n"
   ]
  },
  {
   "cell_type": "markdown",
   "metadata": {},
   "source": [
    "## Le prétraitement"
   ]
  },
  {
   "cell_type": "markdown",
   "metadata": {},
   "source": [
    "Le algorithmes que nous avons présenté ont des complexités relativement élevées. Le but du prétraitement va justement être de regarder le graphe et de voir si on ne peut pas enlever certains sommets ou certaines arrètes dont on sait qu'elles ne participeront pas à la solution."
   ]
  },
  {
   "attachments": {},
   "cell_type": "markdown",
   "metadata": {},
   "source": [
    "Pour cela, nous avons besoin de l'algorithme de Bellman ford. On retrouve la structure classique de l'algorithme de Bellman Ford, cependant la particularité de ce dernier est que l'on place en paramètre de la fonction le nombre entier $r$. Ce nombre correspond à la métrique celons laquelle on veut calculer un plus court chemin. Par exemple si on veut calculer le chemin le moins couteux (métrique de cout) on mettra r=0. si on veut calculer le plus court chemin en termes de consommation d'une ressource, on mettra le numéro de cette ressource en paramètre.\n",
    "\n",
    "La fonction de Bellman Ford, en plus du plus court chemin selon la métrique choisie, nous donnera sur ce même chemin, la longueur du chemin celons les différentes autres métriques.\n"
   ]
  },
  {
   "attachments": {},
   "cell_type": "markdown",
   "metadata": {},
   "source": [
    "### Création de plusieurs sous fonction.\n",
    "\n",
    "\n",
    "L'algorithme de prétraitement est un algorithme qui est très long et très complexe. On y retrouve des grandes étapes que nous avons séparé en différentes fonctions, afin d'expliquer le rôle de chacune de ces étapes. C'est aussi un très bon moyen pour corriger des erreurs dans l'algorithme final si on a séparé le problème en sous problème."
   ]
  },
  {
   "cell_type": "markdown",
   "metadata": {},
   "source": [
    "#### Recherche des plus courts chemin."
   ]
  },
  {
   "cell_type": "markdown",
   "metadata": {},
   "source": [
    "Pour la réalisation de cet algorithme de prétraitement, il faut que l'on dispose de deux choses :\n",
    "\n",
    "- les plus courts chemins entre s (la source) et tous les autres sommets du graphes pccs. Ceci se réalise avec l'algorithme de Bellman-Ford que nous avons expliqué précédemment.\n",
    "\n",
    "- les plus courts chemins entre tous les sommets, et le sommet t (le puit). Ceci se réalise d'une manière un peu différente. Pour réaliser ceci nous avons décidé de créer un nouveau graphe gp qui contient les mêmes sommets que g mais dont tous les arcs sont retournés par rapport à g. Ensuite on effectue un Bellman Ford depuis t sur ce nouveau graphe.\n",
    "\n",
    "- Ici on parle bien **des** plus courts chemins car nous calculons le plus court chemin pour chaque \"métrique\". Une métrique est une valuation des arcs qui nous permet d'attribuer une valeur à un chemin dans le graphe. Ici nous disposons de plusieurs métriques. Nous avons la métrique de cout qui est en fait la métrique principale, celle par rapport à laquelle on doit minimiser notre chemin. Nous avons ensuite les métriques de consommation, qui sont correspondent aux consommations des ressources sur chaque arc.\n",
    "\n",
    "\n",
    "**Remarques :** \n",
    "+ Le problème sera dit évident si jamais on se retrouve dans le cas très simple où si on regarde le plus court chemin, selon la métrique de cout, entre la source et le puit et que ce chemin respecte les contraintes du problème.\n",
    "\n",
    "+ Le problème sera dit insoluble si jamais on est dans le cas où on a un des plus courts chemins dans une des métriques de consommation de ressource, qui ne respecte pas la contrainte correspondant à cette ressource.\n"
   ]
  },
  {
   "cell_type": "markdown",
   "metadata": {},
   "source": [
    "#### Mise à jour du majorant"
   ]
  },
  {
   "cell_type": "markdown",
   "metadata": {},
   "source": [
    "Le but de l'algorithme est de supprimer des arcs et/ou des sommets du graphe, de façon à avoir un graphe plus petit pour que le problème soit plus petit. Ce que l'on appelle un majorant du problème c'est une valeur réelle qui va servir de borne supérieure à la longueur en cout de notre problème.\n",
    "\n",
    "Le principe est le suivant : \n",
    "\n",
    "- Dans un premier temps nous allons regarder les plus courts chemins selon chaque métrique de consommation de ressources, permettant d'aller à t. Nous allons regarder sur ces plus courts chemins si toutes les contraintes de ressources sont respectées. Si elles le sont alors on regarde sur ce chemin correspondant la longueur selon la métrique de cout et si cette dernière est inférieure au majorant on met le majorant à jour.\n",
    "\n",
    "- Dans la seconde partie nous allons boucler sur les arrêtes (u,v) de notre graphe. On va venir former les chemins du type s->u->v->t. On va former différents chemins en regardant les plus courts selon chaque métrique sur chaque portion s->u ou v->t. Ces différents chemins vont nous permettre ainsi de mettre à jour notre majorant.\n"
   ]
  },
  {
   "cell_type": "markdown",
   "metadata": {},
   "source": [
    "#### Elimination des sommets"
   ]
  },
  {
   "attachments": {},
   "cell_type": "markdown",
   "metadata": {},
   "source": [
    "La fonction va nous permettre de supprimer certains nœuds du graphe qui ne font pas parti de notre plus court chemin. \n",
    "la philosophie est assez simple. On considère un nœud $i$, et on regarde les plus courts chemins pour faire $s->i$ puis $i->t$ \n",
    "selon toutes les ressources. Si selon la ressource 0, cette distance est strictement supérieure au majorant, \n",
    "alors on peut supprimer le sommet et si selon les autres ressources cette distance est supérieure strictement \n",
    "aux limites du problème, on peut aussi supprimer ce sommet."
   ]
  },
  {
   "cell_type": "markdown",
   "metadata": {},
   "source": [
    "#### Elimination des arcs"
   ]
  },
  {
   "attachments": {},
   "cell_type": "markdown",
   "metadata": {},
   "source": [
    "Cette fonction nous permet d'éliminer des arcs, et la philosophie est exactement \n",
    "la même que pour supprimer des sommets sauf que maintenant on considère un arc $(i,j)$, et on regarde $s->i$, $i->j$ et $j->t$ \n",
    "et on compare ce chemin au majorant et aux limites de ressources."
   ]
  },
  {
   "cell_type": "markdown",
   "metadata": {},
   "source": [
    "#### Algorithme de prétraitement"
   ]
  },
  {
   "cell_type": "markdown",
   "metadata": {},
   "source": [
    "Nous rassemblons ensuite toutes ces fonctions, dans l'algorithme final qui nous donne ainsi notre algorithme de nettoyage de graphe."
   ]
  },
  {
   "cell_type": "markdown",
   "metadata": {},
   "source": [
    "#### Test algorithme de nettoyage."
   ]
  },
  {
   "cell_type": "markdown",
   "metadata": {},
   "source": [
    "Cet algorithme est très compliqué à venir vérifier car dans son exécution il est assez complexe et long, ainsi il est compliqué de prévoir les arcs ou les nœuds qui vont être éliminés au cours des opérations, ainsi pour tester cet algorithme nous allons créer des graphes aléatoires, faire tourner l'algorithme de correction d'étiquette qui lui a été vérifié, ensuite nous allons faire tourner l'algorithme de nettoyage et ensuite de nouveau l'algorithme de correction, pour voir si nous obtenons les mêmes résultats avec les deux méthodes."
   ]
  },
  {
   "cell_type": "code",
   "execution_count": 13,
   "metadata": {
    "scrolled": true
   },
   "outputs": [
    {
     "name": "stdout",
     "output_type": "stream",
     "text": [
      "nombre de noeuds avant nettoyage : 70\n",
      "nombre d'arrètes avant nettoyage : 2906\n",
      "Resultat sans nettoyage : {'pcc': [134, 40, 174, 99], 'trace': [27, 41, 26], 'temps': 0.05879700000000554, 'etat': 'resolu'}\n",
      "\n",
      "-------\n",
      "\n",
      "nombre de noeuds après nettoyage : 3\n",
      "nombre d'arrètes après nettoyage : 2\n",
      "Resultat avec nett : {'pcc': [134, 40, 174, 99], 'trace': [27, 41, 26], 'temps': 0.00039740000000421105, 'etat': 'resolu'}\n"
     ]
    }
   ],
   "source": [
    "N = 70  # nombre de noeuds dans le graphe.\n",
    "s, t = random_choose_node(N)\n",
    "b = [100, 200, 200]\n",
    "g, C, A, dict_R, dict_b = make_random_graphe(N, 3, 200, b, 0.6)\n",
    "\n",
    "corr = Correc_Etiq_bis(g, s, t, 3, b)\n",
    "print(\"nombre de noeuds avant nettoyage : {}\".format(len(g.nodes())))\n",
    "print(\"nombre d'arrètes avant nettoyage : {}\".format(len(g.edges())))\n",
    "print(\"Resultat sans nettoyage : \", end=\"\")\n",
    "print(corr)\n",
    "print(\"\")\n",
    "print(\"-------\")\n",
    "print(\"\")\n",
    "\n",
    "gp = nettoyage(g, s, t, b, 3)[\"graphe\"]  # on nettoie le graphe.\n",
    "corr2 = Correc_Etiq_bis(gp, s, t, 3, b)\n",
    "print(\"nombre de noeuds après nettoyage : {}\".format(len(gp.nodes())))\n",
    "print(\"nombre d'arrètes après nettoyage : {}\".format(len(gp.edges())))\n",
    "print(\"Resultat avec nett : \", end=\"\")\n",
    "print(corr2)"
   ]
  },
  {
   "cell_type": "markdown",
   "metadata": {},
   "source": [
    "Nous avons fait tourner cette cellule de nombreuses fois, et à chaque fois l'algorithme de nettoyage, nous permettait de réduire considérablement le graph, et ainsi le temps de calcul de l'algorithme de correction d'étiquette. Ce qui serait maintenant intéressant, c'est de comparer les temps de calcul de l'algorithme de correction d'étiquette, avec et sans nettoyage. En effet si le nettoyage est beaucoup trop long, il n'a aucun intérêt dans la résolution de notre problème. c'est ce que nous allons faire ici. Nous allons procéder de manière très similaire à la mise en avant de la complexité."
   ]
  },
  {
   "cell_type": "code",
   "execution_count": 14,
   "metadata": {},
   "outputs": [],
   "source": [
    "tmp_std = []  # temps sans nettoyage\n",
    "tmp_nett = []  # temps avec nettoyage.\n",
    "N_list = np.arange(20, 75, 5)\n",
    "\n",
    "\n",
    "for N in N_list:\n",
    "    s = 0\n",
    "    t = N - 1\n",
    "    buff_1 = []\n",
    "    buff_2 = []\n",
    "\n",
    "    b = [200, 200, 200]\n",
    "\n",
    "    for i in range(10):\n",
    "        g, C, A, dict_R, dict_b = make_random_graphe(\n",
    "            N, 3, 200, b, 0.6\n",
    "        )  # on fait un graphe aléatoire.\n",
    "\n",
    "        ## Correction ###\n",
    "        buff_1.append(Correc_Etiq_bis(g, s, t, 3, b)[\"temps\"])\n",
    "\n",
    "        ## Correction + Nettoyage ##\n",
    "        t1 = time()\n",
    "        gp = nettoyage(g, s, t, b, 3)[\"graphe\"]\n",
    "        cor = Correc_Etiq_bis(gp, s, t, 3, b)[\"temps\"]\n",
    "        t2 = time()\n",
    "\n",
    "        buff_2.append(t2 - t1)\n",
    "\n",
    "    m1 = np.mean(buff_1)\n",
    "    m2 = np.mean(buff_2)\n",
    "\n",
    "    tmp_std.append(m1)\n",
    "    tmp_nett.append(m2)"
   ]
  },
  {
   "cell_type": "code",
   "execution_count": 17,
   "metadata": {},
   "outputs": [
    {
     "data": {
      "text/plain": [
       "<matplotlib.legend.Legend at 0x1bd9a7b8d90>"
      ]
     },
     "execution_count": 17,
     "metadata": {},
     "output_type": "execute_result"
    },
    {
     "data": {
      "image/png": "[encoded data removed]",
      "text/plain": [
       "<Figure size 1000x1000 with 1 Axes>"
      ]
     },
     "metadata": {},
     "output_type": "display_data"
    }
   ],
   "source": [
    "fig = plt.figure(figsize=(10, 10))\n",
    "plt.scatter(N_list, tmp_std, c=\"rebeccapurple\", label=\"sans nettoayge\")\n",
    "plt.scatter(N_list, tmp_nett, c=\"peachpuff\", label=\"avec nettoyage\")  # modèle pulp\n",
    "plt.grid()\n",
    "plt.xlabel(\"Amount of nodes\")\n",
    "plt.ylabel(\"Computation time\")\n",
    "plt.title(\"Computation time vs amount of\")\n",
    "plt.legend()"
   ]
  },
  {
   "cell_type": "markdown",
   "metadata": {},
   "source": [
    "On peut voir ici que justement, faire tourener l'algortihme de nettoyage ne fait que augmenter considérablement le temps de calcul et n'a donc ici pas de réel utilité."
   ]
  }
 ],
 "metadata": {
  "celltoolbar": "Format de la Cellule Texte Brut",
  "kernelspec": {
   "display_name": "nlp",
   "language": "python",
   "name": "python3"
  },
  "language_info": {
   "codemirror_mode": {
    "name": "ipython",
    "version": 3
   },
   "file_extension": ".py",
   "mimetype": "text/x-python",
   "name": "python",
   "nbconvert_exporter": "python",
   "pygments_lexer": "ipython3",
   "version": "3.9.13"
  },
  "vscode": {
   "interpreter": {
    "hash": "2d610bfb5330843e52c6b1e4272056feeee60e4b747e8cd36530d5e655bea6e2"
   }
  }
 },
 "nbformat": 4,
 "nbformat_minor": 4
}

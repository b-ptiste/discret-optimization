{
 "cells": [
  {
   "cell_type": "markdown",
   "metadata": {},
   "source": [
    "# Plus court chemin sous contraintes."
   ]
  },
  {
   "cell_type": "markdown",
   "metadata": {},
   "source": [
    "## Introduction : Description du problème\n",
    "\n",
    "--- \n",
    "\n",
    "Le plus court chemin dans un graphe orienté est un problème qui est très connu. Sa résolution emploi la programmation dynamique et les algorithme les plus connus pour résoudre ce genre de problèmes sont bien entendu les algorithmes de **dijkstra** ou encore de **Bellman-Ford**. Cependant que se passe-t-il si l'on souhaite trouver le plus court chemin mais que ce dernier respecte certaines contraintes imposées, typiquement vous souhaitez faire un trajet Pau-Rennes le plus court possible en km mais avec un certain budget en terme d'essence et/ou de péage ?\n",
    "\n",
    "C'est ce problème qui va nous intéresser dans le rapport qui suit. Allant de la programmation linéaire en nombre entier associée à ce problème via le language de modélisation **Pulp** en passant par les algorithmes de résolutions sur des graphes, nous allons traiter plusieurs aspects de ce problèmes afin de mieux le comprendre.\n",
    "\n",
    "Ce problème rentre dans le cadre des problèmes **NP-difficile**, c'est à dire que contrairement à son petit frère (plus court chemin sans contraintes) sa résolution ne peut pas s'effectuer en temps polynomial. La complexité algorithmique associée à ce problème sera très importante il nous faudra ainsi être très vigilant sur notre modélisation afin de réduire au maximum les temps de calcul."
   ]
  },
  {
   "cell_type": "markdown",
   "metadata": {},
   "source": [
    "## Importation des différents package"
   ]
  },
  {
   "cell_type": "markdown",
   "metadata": {},
   "source": [
    "Les deux packages qui suivent sont des packages que nous avons installé afin d'avoir des affichages plus soignés en termes graphique."
   ]
  },
  {
   "cell_type": "code",
   "execution_count": 1,
   "metadata": {},
   "outputs": [
    {
     "name": "stdout",
     "output_type": "stream",
     "text": [
      "Requirement already satisfied: pyroutelib3 in d:\\anaconda\\lib\\site-packages (1.7.1)\n",
      "Requirement already satisfied: typing-extensions in d:\\anaconda\\lib\\site-packages (from pyroutelib3) (3.7.4.2)\n",
      "Requirement already satisfied: osmiter>=1.1 in d:\\anaconda\\lib\\site-packages (from pyroutelib3) (1.1.1)\n",
      "Requirement already satisfied: iso8601 in d:\\anaconda\\lib\\site-packages (from osmiter>=1.1->pyroutelib3) (0.1.14)\n",
      "Requirement already satisfied: protobuf in d:\\anaconda\\lib\\site-packages (from osmiter>=1.1->pyroutelib3) (3.17.0)\n",
      "Requirement already satisfied: six>=1.9 in d:\\anaconda\\lib\\site-packages (from protobuf->osmiter>=1.1->pyroutelib3) (1.15.0)\n",
      "Note: you may need to restart the kernel to use updated packages.\n"
     ]
    }
   ],
   "source": [
    "pip install pyroutelib3"
   ]
  },
  {
   "cell_type": "code",
   "execution_count": 2,
   "metadata": {},
   "outputs": [
    {
     "name": "stdout",
     "output_type": "stream",
     "text": [
      "Requirement already satisfied: folium in d:\\anaconda\\lib\\site-packages (0.12.1)\n",
      "Requirement already satisfied: requests in d:\\anaconda\\lib\\site-packages (from folium) (2.24.0)\n",
      "Requirement already satisfied: numpy in d:\\anaconda\\lib\\site-packages (from folium) (1.18.5)\n",
      "Requirement already satisfied: branca>=0.3.0 in d:\\anaconda\\lib\\site-packages (from folium) (0.4.2)\n",
      "Requirement already satisfied: jinja2>=2.9 in d:\\anaconda\\lib\\site-packages (from folium) (2.11.2)\n",
      "Requirement already satisfied: urllib3!=1.25.0,!=1.25.1,<1.26,>=1.21.1 in d:\\anaconda\\lib\\site-packages (from requests->folium) (1.25.9)\n",
      "Requirement already satisfied: certifi>=2017.4.17 in d:\\anaconda\\lib\\site-packages (from requests->folium) (2020.6.20)\n",
      "Requirement already satisfied: idna<3,>=2.5 in d:\\anaconda\\lib\\site-packages (from requests->folium) (2.10)\n",
      "Requirement already satisfied: chardet<4,>=3.0.2 in d:\\anaconda\\lib\\site-packages (from requests->folium) (3.0.4)\n",
      "Requirement already satisfied: MarkupSafe>=0.23 in d:\\anaconda\\lib\\site-packages (from jinja2>=2.9->folium) (1.1.1)\n",
      "Note: you may need to restart the kernel to use updated packages.\n"
     ]
    }
   ],
   "source": [
    "pip install folium"
   ]
  },
  {
   "cell_type": "code",
   "execution_count": 1,
   "metadata": {},
   "outputs": [
    {
     "name": "stderr",
     "output_type": "stream",
     "text": [
      "D:\\ANACONDA\\lib\\site-packages\\IPython\\html.py:12: ShimWarning: The `IPython.html` package has been deprecated since IPython 4.0. You should import from `notebook` instead. `IPython.html.widgets` has moved to `ipywidgets`.\n",
      "  warn(\"The `IPython.html` package has been deprecated since IPython 4.0. \"\n"
     ]
    }
   ],
   "source": [
    "from pulp import *\n",
    "import pandas as pd\n",
    "import math\n",
    "import networkx as nx\n",
    "import numpy as np\n",
    "import matplotlib.pyplot as plt\n",
    "import time\n",
    "from random import randint\n",
    "from pyroutelib3 import Router\n",
    "import folium\n",
    "import os\n",
    "import IPython.html.widgets as widgets\n",
    "from IPython.html.widgets import interact, interactive, fixed\n",
    "import re\n",
    "import string\n",
    "import random\n",
    "from collections import defaultdict\n",
    "from IPython.display import HTML,display\n",
    "%matplotlib inline"
   ]
  },
  {
   "cell_type": "markdown",
   "metadata": {},
   "source": [
    "Pour ce projet, nottament pour la dernière partie, nous avons lu des fichier de type csv. De facon à pouvoir lire ces fichiers vous aussi pour pouvoir voir l'application concrète finale, nous vous invitons à mettre ici votre répertoir courant (chemin d'accès aux fichiers)"
   ]
  },
  {
   "cell_type": "code",
   "execution_count": 2,
   "metadata": {},
   "outputs": [],
   "source": [
    "os.chdir('D:\\\\INSA\\\\GM\\\\3GM\\\\S6\\\\Opti_Disc\\\\Projet\\\\Data')"
   ]
  },
  {
   "cell_type": "markdown",
   "metadata": {},
   "source": [
    "## Programmation linéaire en nombre entier (PLNE) via Pulp"
   ]
  },
  {
   "cell_type": "markdown",
   "metadata": {},
   "source": [
    "### Premier modèle : modélisation avec des matrice"
   ]
  },
  {
   "cell_type": "markdown",
   "metadata": {},
   "source": [
    "#### Présentation théorique (PLNE)."
   ]
  },
  {
   "cell_type": "markdown",
   "metadata": {},
   "source": [
    "On aura comme données principales du problème :\n",
    "\n",
    "- Un sommet source $s$ (départ) et un sommet puit $t$ (arrivée).\n",
    "\n",
    "\n",
    "- Une matrice $C \\in M_N(\\mathbb{R})$, avec $N$ le nombre de sommets dans le graphe dans lequel nous cherchons notre plus court chemin. C'est une matrice carrée tel que $C_{i,j}$ représente le cout pour faire une transition de i en j. Il faut ainsi trouver dans la matrice le chemin le plus court.\n",
    "\n",
    "\n",
    "- Cependant comment savoir si une transition est possible entre un sommet i et un sommet j, par quelle valeur la représenter dans la matrice $C$ ? Pour répondre à cela nous introduisons une deuxième matrice qui est la matrice $A \\in M_N(\\{0,1\\})$ (matrice binaire de même taille que C), qui est la matrice d'adjacence de notre graphe définit par $A_{i,j} = 1$ ssi on peut aller de i en j, et $0$ sinon.\n",
    "\n",
    "\n",
    "- On aura ensuite un dictionnaire $R$, qui sera en fait le dictionnaire des contraintes à ne pas dépasser. A chaque clé $r$ du dictionnaire correspond une matrice $R_r \\in M_N(\\mathbb{R})$ tq $(R_r)_{i,j}$ correspond à la consommation de la ressource r sur le chemin de i à j.\n",
    "\n",
    "Ici le choix d'une matrice a été dicté par la facilité de visualisation du problème, mais aussi pour la facilité de génération d'instances de test pour vérifier le bon fonctionnement du modèle.\n",
    "\n",
    "\n",
    "**Variables :**\n",
    "\n",
    "Ainsi notre variable sera une matrice binaire $X$ tq : $X_{i,j}=1$ ssi on emprunte le chemin pour aller du sommet i à la ville j.\n",
    "\n",
    "Ainsi la fonction objectif à minimiser sera : $\\sum_i \\sum_ j X_{i,j}C_{i,j}$. L'objectif est simplement la somme de tous les couts des branches que l'on considère.\n",
    "\n",
    "**Contraintes :** \n",
    "\n",
    "<ins>*Contraintes générales :*<ins>\n",
    "\n",
    "Dans un premier temps, il y a des contraintes qui arrivent tout de suite, à savoir on part de la ville s et on arrive à la ville t. Ces deux contraintes se traduisent par :\n",
    "- $\\sum_i X_{i,t} = 1$ on doit forcément arriver à la ville t, et on ne fait qu’un seul passage dans la ville t\n",
    "\n",
    "- $\\sum_j X_{s,j} = 1$ on doit forcément partir de la ville s, et on ne part de la ville s qu'une seule fois, on ne doit pas revenir dans la ville s.\n",
    "\n",
    "Nous devons aussi vérifier que les arcs que nous empruntons dans notre chemin existent. Cette contrainte se traduit par :\n",
    "\n",
    "- $X_{i,j}\\leq A_{i,j}$ pour tout (i,j)\n",
    "\n",
    "\n",
    "Ensuite il faut définir des contraintes qui permettent justement de construire un chemin dans la matrice. Une idée qui vient naturellement quand on construit un chemin est que quand à une étape intermédiaire on arrive dans une ville, ensuite à l'étape d'après on doit reprendre le chemin depuis cette ville.\n",
    "Ainsi si depuis une ville i on arrive dans une ville $i \\neq \\{s,t\\}$, cela se traduit par $\\sum_j X_{j,i} =1$, alors, on doit repartir de cette ville donc $\\sum_j X_{i,j}=1$, mais à l'inverse si à aucun moment on n'arrive dans i, alors $\\sum_j X_{j,i} =0$ et ainsi on ne doit pas partir de i, d'où $\\sum_j X_{i,j}=0$. Ce qui nous mène à la contrainte suivante :\n",
    "\n",
    "- $\\forall i \\neq \\{s,t\\} \\sum_j X_{i,j} = \\sum_j X_{j,i}$ si on arrive dans une ville ensuite on repart de cette ville\n",
    "\n",
    "On peut aussi définir les deux contraintes suivantes :\n",
    "\n",
    "- $\\sum_j X_{t,j} = 0$ depuis la dernière ville on ne va nulle part, car c'est la ville d'arrivée\n",
    "- $\\sum_i X_{i,s} = 0$ la première colonne ne doit contenir aucun 1. Sinon il y a une boucle et pour le plus court chemin on n’en veut pas\n",
    "\n",
    "<ins>*Contrainte liée aux consommations de ressources :*<ins>\n",
    "\n",
    "Le modèle qui vient d'être décrit, permet simplement de trouver un plus court chemin dans un graphe. Il faut ainsi maintenant rajouter les contraintes de ressources.\n",
    "\n",
    "On aura aussi un dictionnaire python $b$, tel que les clés de ce dictionnaire sont les même que les clés du dictionnaire $R$, tel que $b[r]$ donne la limite de la ressource $r$ à ne pas dépasser sur notre chemin final. \n",
    "\n",
    "Et ainsi une nouvelle contrainte apparait :\n",
    "\n",
    "- $\\forall r \\in R~~\\sum_i \\sum_ j X_{i,j}(R_r)_{i,j} \\leq b[r]$\n",
    "\n",
    "Toutes nos contraintes sont en place, on peut maintenant créer notre modèle Pulp."
   ]
  },
  {
   "cell_type": "markdown",
   "metadata": {},
   "source": [
    "#### Modélisation sous Pulp"
   ]
  },
  {
   "cell_type": "markdown",
   "metadata": {},
   "source": [
    "Cette première fonction permet de créer le modèle Pulp correspondant au problème décrit précédemment. Cette fonction retrounera simplement le problème modéliser. Libre à nous ensuite d'en faire ce que bon nous semble."
   ]
  },
  {
   "cell_type": "code",
   "execution_count": 90,
   "metadata": {},
   "outputs": [],
   "source": [
    "# permet de retourner le modèle Pulp de facon à pouvoir le manipuler par la suite.\n",
    "\n",
    "def prob_PCC(N,C,A,s,t,R,b) :\n",
    "    city = list(range(N))\n",
    "    \n",
    "    prob = LpProblem(\"PC_sans_contraintes\", LpMinimize)\n",
    "\n",
    "    # déclaration des variables.\n",
    "    X = LpVariable.matrix(\"X\",(city,city),0,1,LpInteger) # matrice binaire\n",
    "\n",
    "    # déclaration de l'objectif.\n",
    "    prob += lpSum([lpSum([X[i][j]*C[i][j] for i in city]) for j in city])\n",
    "\n",
    "    # déclaration des contraintes\n",
    "        # avec la matrice d'adjacence on vérifie que le chemin existe.\n",
    "    for i in range(N):\n",
    "        for j in range(N):\n",
    "            prob += X[i][j]<=A[i][j] # contrainte liée à la matrice d'adjacence.\n",
    "            \n",
    "    prob += lpSum([X[i][t] for i in city])==1 # on arrive au puit que une seule fois\n",
    "    prob += lpSum([X[s][i] for i in city])==1 # on part de la source\n",
    "    \n",
    "    prob += lpSum([X[t][j] for j in city])==0 # on part ne peut pas partir de t\n",
    "    prob += lpSum([X[i][s] for i in city])==0 # on ne peut pas revenir à s.\n",
    "\n",
    "    for j in range(0,N) :\n",
    "        if(j!=t and j!=s) :\n",
    "            prob += lpSum([X[i][j] for i in city])==lpSum([X[j][i] for i in city])\n",
    "    \n",
    "    # contraintes de ressources.\n",
    "    \n",
    "    for r in R :\n",
    "        prob += lpSum([lpSum([X[i][j]*R[r][i][j] for i in city]) for j in city])<=b[r]\n",
    "    \n",
    "    # on retourne le modèle Pulp réalisé\n",
    "    \n",
    "    return(prob)"
   ]
  },
  {
   "cell_type": "markdown",
   "metadata": {},
   "source": [
    "La fonction suivante, va permettre de résoudre le problème avec le modèle Pulp précédent et de stocker le chemin emprunté tout en créant un affichage qui nous permet de voir la solution de notre problème. Cette fonction nous sera utile surtout dans la dernière partie."
   ]
  },
  {
   "cell_type": "code",
   "execution_count": 4,
   "metadata": {},
   "outputs": [],
   "source": [
    "def path_PCC(N,C,A,s,t,R,b):\n",
    "    \n",
    "    L_chemin =[]\n",
    "    \n",
    "    prob = prob_PCC(N,C,A,s,t,R,b)\n",
    "    prob.solve(PULP_CBC_CMD())\n",
    "    status = LpStatus[prob.status] \n",
    "    print(\"Status:\", status)\n",
    "    \n",
    "    if (status == 'Optimal'):\n",
    "    \n",
    "        # stockage des variables du problème, dans un dictionnaires.\n",
    "        vardict = {}\n",
    "        for v in prob.variables():\n",
    "            vardict[v.name] = v\n",
    "\n",
    "        # on va représenter le chemin que on va prendre.\n",
    "        bl = True\n",
    "        k = s\n",
    "        cons = {}\n",
    "\n",
    "        while (bl == True) :\n",
    "            for i in range(N) :\n",
    "                if(vardict[\"X_\"+str(k)+\"_\"+str(i)].value()==1) :\n",
    "                    for r in R :\n",
    "                        if (r in cons) :\n",
    "                            cons[r] += R[r][k][i]\n",
    "                        else :\n",
    "                            cons[r] = R[r][k][i]\n",
    "                    L_chemin.append(k)\n",
    "                    k = i\n",
    "                    if(k==t):\n",
    "                        bl = False\n",
    "                        L_chemin.append(i)\n",
    "        E = []\n",
    "        E.append(value(prob.objective))\n",
    "        \n",
    "        for r in cons :\n",
    "            E.append(cons[r])\n",
    "        return({'statu' : status,'trace' : L_chemin , 'consommations' : E})  \n",
    "    else:\n",
    "        return({'statu':status})"
   ]
  },
  {
   "cell_type": "markdown",
   "metadata": {},
   "source": [
    "#### Test de ce premier modèle"
   ]
  },
  {
   "cell_type": "markdown",
   "metadata": {},
   "source": [
    "Parce que un algorithme non testé ne vaut rien nous allons réalisé des test sur des instances dont nous connaissons les solutions théoriques (comme des exemples traités en cours) de facon à venir valider notre modèle Pulp"
   ]
  },
  {
   "cell_type": "code",
   "execution_count": 5,
   "metadata": {},
   "outputs": [
    {
     "name": "stdout",
     "output_type": "stream",
     "text": [
      "Status: Optimal\n"
     ]
    },
    {
     "data": {
      "text/plain": [
       "{'statu': 'Optimal', 'trace': [0, 1, 3, 5], 'consommations': [11.0]}"
      ]
     },
     "execution_count": 5,
     "metadata": {},
     "output_type": "execute_result"
    }
   ],
   "source": [
    "g = nx.DiGraph()\n",
    "g.add_nodes_from(range(6))\n",
    "\n",
    "g.add_weighted_edges_from([(3,5,6),(5,4,2),(4,3,4),(3,4,7),(2,4,0),(3,2,1),(1,3,3),(1,2,6),(2,1,5),(0,1,2),(0,2,8)])\n",
    "\n",
    "C = np.zeros((6,6))\n",
    "A = np.zeros((6,6))\n",
    "for (u,v) in g.edges():\n",
    "    C[u,v] = g[u][v]['weight']\n",
    "    A[u,v] = 1\n",
    "    \n",
    "path_PCC(6,C,A,0,5,{},{})"
   ]
  },
  {
   "cell_type": "markdown",
   "metadata": {},
   "source": [
    "On obtient ainsi bien le même résultat théorique que vu en cours. Nous allons maintenant rajouter une contrainte et faire exprès de venir satturer le chemin de la solution sans contraintes."
   ]
  },
  {
   "cell_type": "code",
   "execution_count": 6,
   "metadata": {},
   "outputs": [
    {
     "name": "stdout",
     "output_type": "stream",
     "text": [
      "Status: Optimal\n"
     ]
    },
    {
     "data": {
      "text/plain": [
       "{'statu': 'Optimal', 'trace': [0, 2, 4, 3, 5], 'consommations': [18.0, 4.0]}"
      ]
     },
     "execution_count": 6,
     "metadata": {},
     "output_type": "execute_result"
    }
   ],
   "source": [
    "g = nx.DiGraph()\n",
    "g.add_nodes_from(range(6))\n",
    "\n",
    "g.add_weighted_edges_from([(3,5,[6,1]),(5,4,[2,1]),(4,3,[4,1]),(3,4,[7,1]),(2,4,[0,1]),(3,2,[1,1]),(1,3,[3,2]),(1,2,[6,1]),(2,1,[5,1]),(0,1,[2,2]),(0,2,[8,1])])\n",
    "\n",
    "C = np.zeros((6,6))\n",
    "A = np.zeros((6,6))\n",
    "R = {1 : np.zeros((6,6))}\n",
    "\n",
    "for (u,v) in g.edges():\n",
    "    C[u,v] = g[u][v]['weight'][0]\n",
    "    A[u,v] = 1\n",
    "    R[1][u,v] = g[u][v]['weight'][1]\n",
    "\n",
    "path_PCC(6,C,A,0,5,R,{1:4})"
   ]
  },
  {
   "cell_type": "markdown",
   "metadata": {},
   "source": [
    "Bien que l'algorithme soit compliqué à résoudre en suivant le processus à chaque itération. Nous avons donc choisi un problème que nous avons contraint de manière à obtenir une solution que nous avions déterminé. Ainsi, nous avons choisi d'exécuter le plus court chemin avec une contrainte de ressource de 4. Chaque arc entre deux sommets est de poids 1. De plus, on a saturé en ressource la solution du problème de plus court chemin sans ressource de manière à ne pas l'emprunter. Le plus court chemin était de longueur 3 et c'est le seul. Donc si on n'utilise pas ce chemin alors le chemin aura un cout au moins de 4. De plus il y a seulement deux chemins de longueur 4. Donc en fonction de la capacité max de la contrainte on empruntera l'un ou l'autre. Finalement, avec 4 comme contrainte max on obtient bien le chemin qui est le bon."
   ]
  },
  {
   "cell_type": "markdown",
   "metadata": {},
   "source": [
    "## Les algorithmes de graphes.\n"
   ]
  },
  {
   "cell_type": "markdown",
   "metadata": {},
   "source": [
    "### Fonction d'affichage pour un graphe networkx"
   ]
  },
  {
   "cell_type": "markdown",
   "metadata": {},
   "source": [
    "Cette fonction permettra d'afficher un graphe networkx en coloriant en rouge un chemin **trace** dans le graphe, que l'on a spécifié à la fonction."
   ]
  },
  {
   "cell_type": "code",
   "execution_count": 7,
   "metadata": {},
   "outputs": [],
   "source": [
    "def affichage(g,s,t,trace) :\n",
    "    \n",
    "    \n",
    "    N = len(g.nodes()) # nombre de noeuds dans le graphe.\n",
    "    pos = nx.circular_layout(g) # ici c'est juste un argument pour faire un graphe un peu ordonné\n",
    "    # ici on va définir les couleurs des arcs.\n",
    "    for edg in g.edges() :\n",
    "        a = list(edg)\n",
    "        # on va \n",
    "        if (edg in trace) :\n",
    "            g[a[0]][a[1]]['color'] = 'red'\n",
    "        else :\n",
    "            g[a[0]][a[1]]['color'] = 'grey'\n",
    "\n",
    "    colors = [g[u][v]['color'] for u,v in g.edges()]\n",
    "    weights = [g[u][v]['weight'] for u,v in g.edges()]\n",
    "    \n",
    "    \n",
    "    couleurs_sommets = [\"yellow\"] * g.number_of_nodes() \n",
    "\n",
    "    sommets_a_voir = [s, t] # ici on colorie juste la source et le puit d'une couleur différente.\n",
    "    \n",
    "    for i in sommets_a_voir:\n",
    "        couleurs_sommets[i] = \"red\" # source et puit en rouge.\n",
    "    \n",
    "    \n",
    "    options = {\n",
    "        'node_color' : couleurs_sommets,\n",
    "        'node_size'  : 550,\n",
    "        'pos' : pos,\n",
    "        'edge_color' : colors,\n",
    "        'with_labels': True,\n",
    "        }\n",
    "        \n",
    "\n",
    "    plt.figure()\n",
    "    labels = nx.get_edge_attributes(g,'weight')\n",
    "    nx.draw(g,**options)\n",
    "    nx.draw_networkx_edge_labels(g,edge_labels = labels,pos = pos)\n",
    "    plt.show()"
   ]
  },
  {
   "cell_type": "markdown",
   "metadata": {},
   "source": [
    "### Fonction de génération de graphe pour les tests"
   ]
  },
  {
   "cell_type": "markdown",
   "metadata": {},
   "source": [
    "Afin de tester nos algorithmes sur des graphes, il nous faut générer des instances graphiques de facon assez rapide. Nous avons pour cela crée plusieurs fonctions qui permettent d'effectuer cette tâche. Ces fonctions en plus de créer des les graphes, vont nous permettre"
   ]
  },
  {
   "cell_type": "code",
   "execution_count": 8,
   "metadata": {},
   "outputs": [],
   "source": [
    "def make_graphe(i,R,cout_max,b):\n",
    "    #Créer le graphe avec des valeurs aléatoires\n",
    "    G = nx.complete_graph(i).to_directed()\n",
    "    for (u, v) in G.edges():\n",
    "        L = [randint(1, cout_max) for i in range(R+1)]\n",
    "        G.add_weighted_edges_from([(u,v,L)])\n",
    "    #Réaliser la matrice de coût pour la modèle PULP + le dictionnaire de matrice de Ressources\n",
    "    C = np.zeros((len(G.nodes),len(G.nodes)))\n",
    "    #Coût\n",
    "    for (u,v) in G.edges():\n",
    "        C[u][v] = G[u][v]['weight'][0]\n",
    "        \n",
    "    # matrice d'adjacence :\n",
    "    A = np.zeros((len(G.nodes()),len(G.nodes())))\n",
    "    for (u,v) in G.edges():\n",
    "        A[u,v] = 1\n",
    "    \n",
    "    #Ressources + Dictionnaires des contraintes\n",
    "    dict_ressources = {}\n",
    "    dict_b = {}\n",
    "    for r in range(1,R+1):\n",
    "        dict_ressources[r] = np.zeros((len(G.nodes),len(G.nodes)))\n",
    "        #Contrainte\n",
    "        dict_b[r] = b[r-1]\n",
    "        for (u,v) in G.edges():\n",
    "            dict_ressources[r][u][v] = G[u][v]['weight'][r]\n",
    "    return(G,C,A,dict_ressources,dict_b)"
   ]
  },
  {
   "cell_type": "code",
   "execution_count": 9,
   "metadata": {},
   "outputs": [],
   "source": [
    "def make_random_graphe(i,R,cout_max,b,p):\n",
    "    #Créer le graphe avec des valeurs aléatoires\n",
    "    G = nx.fast_gnp_random_graph(i,p).to_directed()\n",
    "    for (u, v) in G.edges():\n",
    "        L = [randint(1, cout_max) for i in range(R+1)]\n",
    "        G.add_weighted_edges_from([(u,v,L)])\n",
    "    #Réaliser la matrice de coût pour la modèle PULP + le dictionnaire de matrice de Ressources\n",
    "    C = np.zeros((len(G.nodes),len(G.nodes)))\n",
    "    #Coût\n",
    "    for (u,v) in G.edges():\n",
    "        C[u][v] = G[u][v]['weight'][0]\n",
    "    #Ressources + Dictionnaires des contraintes\n",
    "    dict_ressources = {}\n",
    "    dict_b = {}\n",
    "    \n",
    "    # matrice d'adjacence du graphe.\n",
    "    A = np.zeros((len(G.nodes()),len(G.nodes())))\n",
    "    for (u,v) in G.edges():\n",
    "        A[u,v] = 1\n",
    "    \n",
    "    for r in range(1,R+1):\n",
    "        dict_ressources[r] = np.zeros((len(G.nodes),len(G.nodes)))\n",
    "        #Contrainte\n",
    "        dict_b[r] = b[r-1]\n",
    "        for (u,v) in G.edges():\n",
    "            dict_ressources[r][u][v] = G[u][v]['weight'][r]\n",
    "\n",
    "    return(G,C,A,dict_ressources,dict_b)"
   ]
  },
  {
   "cell_type": "code",
   "execution_count": 10,
   "metadata": {},
   "outputs": [],
   "source": [
    "def random_choose_node(N):\n",
    "    return(np.random.choice(N,2,replace=False))"
   ]
  },
  {
   "cell_type": "markdown",
   "metadata": {},
   "source": [
    "### Definition d'une etiquette."
   ]
  },
  {
   "cell_type": "markdown",
   "metadata": {},
   "source": [
    "Dans le problèmes de plus court chemin classique que nous avons étudié cette année nous avions les donnée suivante :\n",
    "- G = (V,A) un graphe orienté avec un ensemble de noeuds (V) et un ensemble d'arrètes (A). Pour chaque arc $a \\in A$ du graphe on fait correspondre une valeur $E^a_0$ qui représente le poids de l'arc, c'est en quelque sorte le cout à payer pour pouvoir emprunter cet arc.\n",
    "\n",
    "\n",
    "- Dans le problème du plus court chemin sous contraintes les choses se compliquent un peu. Nous disposerons toujours d'un graphe G = (V,A), mais cette fois ci sur chaque arc $a\\in A$ nous ne disposons plus d'une valeur mais de plusieurs valeurs. Nous aurons le cout de l'arc mais aussi les valeurs qui correspondent aux consommations de ressources. Si on prend le cas où nous avons $R$ contraintes de consommation de ressources, nous aurons ainsi : que la \"valeur\" d'un arc sera un vecteur $E^a\\in \\mathbb{R}^{R+1}$, où $E^a_0$ sera le cout de l'arc, donc la valeur par rapport à laquelle il faut trouver le plus court chemin et $\\forall r\\in \\{1,\\dots,R\\}~~E^a_r$ qui sera la consommation de la ressource r sur l'arc $a$.\n",
    "\n",
    "\n",
    "- Ayant donné ces définitions préliminaires nous pouvons maintenant définir une etiquette. On se donne ainsi un sommet source (s) dans notre problème de plus court chemin. A chaque sommet i on peut faire correspondre un ou plusieurs vecteurs $E\\in\\mathbb{R}^{r+1}$. Ces vecteurs correspondront à différents chemin possibles permettant d'aller de s à i, et leurs composantes résumeront le chemin emprunté en terme de consommation de ressources et de cout. Ainsi pour un vecteur E donné, $E_0$ sera la longueur du chemin de s à i sur le chemin correspondant, et les autres composantes correspondront aux différentes consommations de ressources sur ce chemin."
   ]
  },
  {
   "cell_type": "markdown",
   "metadata": {},
   "source": [
    "### Ordre de Pareto : Une relation d'ordre sur les vecteurs."
   ]
  },
  {
   "cell_type": "markdown",
   "metadata": {},
   "source": [
    "Une difficulté appraît. En effet dans le cas où sur chaque arc, on a des nombres réelles, on peut facilement définir une **relation d'ordre** entre ces derniers. On utilise les relations d'ordre classiques sur $\\mathbb{R}$. Cependant ici sur les arcs on a des vecteurs (Etiquettes) et nous ne connaissons pas de relation d'ordre triviale sur les vecteurs de facon à classer les vecteurs entre eux. En effet il n'y a aucun sens à dire ou écrire que un vecteur E est supérieur à un vecteur E'. C'est pour cela que l'on introduit l'ordre de Pareto, qui permet de définir une pseudo relation d'ordre entre les vecteurs (Etiquettes).\n",
    "\n",
    "**Definition :**\n",
    "\n",
    "Soit $E$ et $E'$ des etiquettes. Une étiquette est un vecteur de $\\mathbb{R}^{R+1}$. On dit qu'une étiquette $E$ domine une etiquette $E'$  (on notera $E\\succ E'$) si les deux conditions suivantes sont respectées :\n",
    "\n",
    "$\\forall r \\in \\{0,\\dots,R\\}~~ E_r\\leq E'_r $\n",
    "\n",
    "$\\exists r \\in \\{0,\\dots,R\\}~~E_r<E'_r$"
   ]
  },
  {
   "cell_type": "markdown",
   "metadata": {},
   "source": [
    "### Un premier algorithme : Solution mais pas de chemin."
   ]
  },
  {
   "cell_type": "markdown",
   "metadata": {},
   "source": [
    "Dans cette section nous avons décidé de présenter l'algorithme de correction d'Etiquette dans sa version la plus simple, au sens ou l'algorithme nous donne la longueur du plus court chemin et les consommations de ressources associées mais ne nous donne pas le chemin emprunté.\n",
    "\n",
    "Cet algorithme utilise le principe de la programmation dynamique à la manière de l'algorithme de bellman-ford. On retrouve effectivement de nombreuses similarités entre les deux algorithmes."
   ]
  },
  {
   "cell_type": "markdown",
   "metadata": {},
   "source": [
    "#### Fonction pour déterminer l'ensemble de Pareto"
   ]
  },
  {
   "cell_type": "markdown",
   "metadata": {},
   "source": [
    "On commence par écrire une fonction qui donnée un ensemble d'Etiquette, nous renvoie simplement ce même ensemble mais en ayant supprimer les etiquettes qui sont dominées au sens de Pareto. Cette fonction nous servira pour mettre à jour les Etiquettes qui sont présentent sur chaque sommet à chaque itérations de l'algorithme de correction d'etiquette."
   ]
  },
  {
   "cell_type": "code",
   "execution_count": 11,
   "metadata": {},
   "outputs": [],
   "source": [
    "def Pareto (tab) :\n",
    "    # filtre qui va nous permettre se savoir qu'elles etiquettes garder.\n",
    "    # filtre[j] = True <=> on conserve l'etiquette j de tab\n",
    "    \n",
    "    # on initialise tout à True.\n",
    "    filtre = [True]*len(tab)\n",
    "\n",
    "    for i in range(len(tab)) :\n",
    "        # si filtre[i] = False, cela veut dire que i est dominé \n",
    "        if(filtre[i]):\n",
    "            E = tab[i] # E\n",
    "            for j in range(i+1,len(tab)) :\n",
    "                Ep = tab[j] # E'\n",
    "                \n",
    "                # le but va être de comparer E et E'\n",
    "                \n",
    "                test = [E[r]-Ep[r] for r in range(len(E))]\n",
    "\n",
    "                t1 = all(k<=0 for k in test)\n",
    "                t2 = all(k>=0 for k in test)\n",
    "                t3 = all(k==0 for k in test)\n",
    "\n",
    "                # E domine Ep\n",
    "                if (t1 and not(t3)):\n",
    "                    filtre[j] = False\n",
    "                \n",
    "                # Ep domine E\n",
    "                if (t2 and not(t3)):\n",
    "                    filtre[i] = False\n",
    "                    break\n",
    "\n",
    "    return(np.array(tab)[filtre].tolist())\n",
    "    "
   ]
  },
  {
   "cell_type": "markdown",
   "metadata": {},
   "source": [
    "##### Test fonction Pareto"
   ]
  },
  {
   "cell_type": "code",
   "execution_count": 12,
   "metadata": {},
   "outputs": [
    {
     "name": "stdout",
     "output_type": "stream",
     "text": [
      "[[0 1 2 3]\n",
      " [1 1 1 1]\n",
      " [2 2 5 4]\n",
      " [2 7 1 3]\n",
      " [4 4 4 4]\n",
      " [7 8 9 0]\n",
      " [3 4 1 2]]\n"
     ]
    },
    {
     "data": {
      "text/plain": [
       "[[0, 1, 2, 3], [1, 1, 1, 1], [7, 8, 9, 0]]"
      ]
     },
     "execution_count": 12,
     "metadata": {},
     "output_type": "execute_result"
    }
   ],
   "source": [
    "E1 = [0,1,2,3]\n",
    "E2 = [1,1,1,1]\n",
    "E3 = np.random.randint(8, size=4)\n",
    "E4 = np.random.randint(8, size=4)\n",
    "E5 = [4,4,4,4]\n",
    "E6 = [7,8,9,0]\n",
    "E7 = [3,4,1,2]\n",
    "\n",
    "tab = [E1,E2,E3,E4,E5,E6,E7]\n",
    "print(np.array(tab))\n",
    "Pareto(tab)"
   ]
  },
  {
   "cell_type": "markdown",
   "metadata": {},
   "source": [
    "#### L'algorithme de Correction d'Etiquette"
   ]
  },
  {
   "cell_type": "code",
   "execution_count": 13,
   "metadata": {},
   "outputs": [],
   "source": [
    "# R est le nombre de ressources que l'on a dans notre graphe.\n",
    "def Correc_Etiq (G,s,t,R,b):\n",
    "    \n",
    "    \n",
    "    ETIQ = {} # dictionnaire d'etiquette\n",
    "    for i in G.nodes :\n",
    "        ETIQ[i] = [] # on initialise tout à l'ensemble vide.\n",
    "    \n",
    "    L = [s]\n",
    "    ETIQ[s] = [[0]*(R+1)]\n",
    "     \n",
    "    \n",
    "    while(len(L)!=0):\n",
    "        \n",
    "        # tant que la liste n'est pas vide \n",
    "        \n",
    "        # on prend le premier élément de la liste, c'est un choix arbitraire.\n",
    "        i = L.pop(0)\n",
    "        # print(len(L))\n",
    "        # on regarde maintenant tous les successeurs de i\n",
    "        for j in G.successors(i):\n",
    "            \n",
    "            # on boucle maintenant sur toutes les etiquettes de i\n",
    "            for E in ETIQ[i] :\n",
    "                \n",
    "                test = [E[r]+G[i][j]['weight'][r]-b[r-1] for r in range(1,R+1)]\n",
    "                bl = all(i<=0 for i in test)\n",
    "                \n",
    "                if (bl ==True):\n",
    "                    \n",
    "                    \n",
    "                    Ep = [E[r]+G[i][j]['weight'][r] for r in range(0,R+1)]\n",
    "                    pr = ETIQ[j]\n",
    "                    if(Ep not in pr) :\n",
    "                        pr.append(Ep)\n",
    "                        ETIQ[j] = Pareto(pr)\n",
    "                    \n",
    "                        if (Ep in ETIQ[j]):\n",
    "                            if (j not in L):\n",
    "                                L.append(j)\n",
    "                        \n",
    "    \n",
    "    # on choisit maintenant la meilleure etiquette.\n",
    "    pcc = 0\n",
    "    try :\n",
    "        pcc = ETIQ[t][0]\n",
    "        \n",
    "        for k in range(len(ETIQ[t])) :\n",
    "            if (ETIQ[t][k][0]<pcc[0]):\n",
    "                pcc = ETIQ[t][k]\n",
    "                \n",
    "    except :\n",
    "        \n",
    "        print(\"trop de contraintes\")\n",
    "        \n",
    "    return(pcc)\n",
    "                        \n",
    "        \n",
    "    "
   ]
  },
  {
   "cell_type": "markdown",
   "metadata": {},
   "source": [
    "##### Test algorithme de correction d'etiquette"
   ]
  },
  {
   "cell_type": "markdown",
   "metadata": {},
   "source": [
    "Ici on va faire le test de cet algorithme avec des graphes qui ont été vues en cours. On commence avec le graphe du polycopié p20. Sur ce graphe, on sait que le plus court chemin sans contraintes entre 1 et 6 est le suivant : 1,2,4,6. Avec sur ce chemin un cout de 11"
   ]
  },
  {
   "cell_type": "code",
   "execution_count": 14,
   "metadata": {
    "scrolled": true
   },
   "outputs": [
    {
     "data": {
      "text/plain": [
       "[11]"
      ]
     },
     "execution_count": 14,
     "metadata": {},
     "output_type": "execute_result"
    }
   ],
   "source": [
    "g = nx.DiGraph()\n",
    "# ajout des noeuds du graphe.\n",
    "g.add_nodes_from(range(6))\n",
    "\n",
    "# on va ajouter les arrète (pas de contraintes)\n",
    "g.add_weighted_edges_from([(0,1,[2]),(0,2,[8]),(1,3,[3]),(1,2,[5]),(2,1,[6]),(2,4,[0]),(3,2,[1]),(3,4,[7]),(3,5,[6]),(4,3,[4]),(5,4,[2])])\n",
    "\n",
    "Correc_Etiq (g,0,5,0,[]) # on retrouve ainsi le cout du chemin que on avait."
   ]
  },
  {
   "cell_type": "markdown",
   "metadata": {},
   "source": [
    "On peut voir ici que on retrouve le coût théorique calculé en cours mais petit bémol, l'algorithme ne donne pas le chemin qui a permis de trouver ce coût. Cependant dans ce genre de problème ce qui nous intéresse c'est principalement le coût et le chemin associé. Ainsi avant de poursuivre plus loin toute notre batterie de test nous avons décidé de modifier cet algorithme afin de récupérer le chemin."
   ]
  },
  {
   "cell_type": "markdown",
   "metadata": {},
   "source": [
    "### Amélioration du premier algorithme : Recherche de la solution et du chemin."
   ]
  },
  {
   "cell_type": "markdown",
   "metadata": {},
   "source": [
    "Notre algorithme précédent semble fonctionner mais le problème est qu'il ne nous donne que la longueur du chemin et les consommations le long de ce chemin, il ne nous donne pas le chemin en lui-même. C'est pour cela que nous avons décidé de le modifié afin de pouvoir récupérer le chemin.\n",
    "\n",
    "Le principe de l'algorithme reste exactement le même, ce qui va considérablement changer ce sont les structures de données dans lesquelles nous allons stocker les différentes étiquettes.\n",
    "\n",
    "Comme nous l'avons vu précédemment dans l'algorithme de correction d'étiquettes, à chaque nœud du graphe nous faisions correspondre un tableau d'étiquettes où chaque étiquette résume en quelque sorte le chemin pour venir jusqu'à ce sommet. Ici au lieu d'avoir un simple tableau nous aurons un dictionnaire python d'Etiquettes. Par exemple si on considère le nœuds i, le dictionnaire correspondant à ce sommet sera de la forme : \n",
    "\n",
    "$\\{k_1 : [E1,E2,E3] , k_2 : [E4,E5,E6] , \\dots\\}$\n",
    "\n",
    "\n",
    "Ceci s'interprétera de la façon suivante. Pour aller au sommet i on a le chemin résumé par l'étiquette E1 et sur ce chemin le prédécesseur de i sera $k_1$"
   ]
  },
  {
   "cell_type": "markdown",
   "metadata": {},
   "source": [
    "#### Nouvelle fonction pour l'ensemble de Pareto"
   ]
  },
  {
   "cell_type": "markdown",
   "metadata": {},
   "source": [
    "Il nous faut ainsi refaire une nouvelle fonction de Pareto."
   ]
  },
  {
   "cell_type": "code",
   "execution_count": 15,
   "metadata": {},
   "outputs": [],
   "source": [
    "def Pareto_bis (tab) :\n",
    "    # la fonction modifie le dictionnaire tab.\n",
    "    # cette fois ci tab est un dictionnaire.\n",
    "    filtre = {}\n",
    "    for k in tab : \n",
    "        filtre[k] = []\n",
    "\n",
    "    for k in tab :\n",
    "        for i in range(len(tab[k])):\n",
    "            E = tab[k][i]\n",
    "            for kp in tab :\n",
    "                for j in range(len(tab[kp])) :\n",
    "                    if(k==kp and i==j) :\n",
    "                        buff = '' # on ne fait rien \n",
    "                    else :\n",
    "                        Ep = tab[kp][j]\n",
    "                        test = [E[r]-Ep[r] for r in range(len(E))]\n",
    "\n",
    "                        t1 = all(l<=0 for l in test)\n",
    "                        t2 = all(l>=0 for l in test)\n",
    "                        t3 = all(l==0 for l in test)\n",
    "\n",
    "                        # E domine Ep\n",
    "                        if (t1 and not(t3)):\n",
    "                            if (kp not in filtre) :\n",
    "                                filtre[kp] = [j]\n",
    "                            else :\n",
    "                                if (j not in filtre[kp]):\n",
    "                                    filtre[kp].append(j)\n",
    "                            \n",
    "                        \n",
    "                        # Ep domine E\n",
    "                        if (t2 and not(t3)):\n",
    "                            if (k not in filtre) :\n",
    "                                filtre[kp] = [i]\n",
    "                            else :\n",
    "                                if (i not in filtre[k]) :\n",
    "                                    filtre[k].append(i)\n",
    "\n",
    "    for k in filtre :\n",
    "        buff = [tab[k][i] for i in range(len(tab[k])) if i not in filtre[k]]\n",
    "        if(len(buff)==0) :\n",
    "            # dans ce cas la on peut venir supprimer la clé\n",
    "            del(tab[k])\n",
    "        else :\n",
    "            tab[k] = np.unique(buff,axis=0).tolist()\n"
   ]
  },
  {
   "cell_type": "markdown",
   "metadata": {},
   "source": [
    "##### Test du nouvel ensemble"
   ]
  },
  {
   "cell_type": "code",
   "execution_count": 16,
   "metadata": {
    "scrolled": true
   },
   "outputs": [
    {
     "name": "stdout",
     "output_type": "stream",
     "text": [
      "{1: [[0, 1, 2, 3], [1, 1, 1, 1], [0, 1, 2, 3]], 2: [[0, 1, 2, 3], [4, 6, 7, 0]], 3: [[0, 1, 2, 3], [5, 0, 7, 2], [4, 4, 4, 4], [7, 8, 9, 0]]}\n",
      "{1: [[0, 1, 2, 3], [1, 1, 1, 1]], 2: [[0, 1, 2, 3], [4, 6, 7, 0]], 3: [[0, 1, 2, 3], [5, 0, 7, 2]]}\n"
     ]
    }
   ],
   "source": [
    "E1 = [0,1,2,3]\n",
    "E2 = [1,1,1,1]\n",
    "E3 = list(np.random.randint(8, size=4))\n",
    "E4 = list(np.random.randint(8, size=4))\n",
    "E5 = [4,4,4,4]\n",
    "E6 = [7,8,9,0]\n",
    "E7 = [3,4,1,2]\n",
    "\n",
    "tab = {1:[E1,E2,E1],\n",
    "      2:[E1,E3],\n",
    "      3:[E1,E4,E5,E6]}\n",
    "\n",
    "print(tab)\n",
    "Pareto_bis(tab)\n",
    "print(tab)"
   ]
  },
  {
   "cell_type": "markdown",
   "metadata": {},
   "source": [
    "La nouvelle fonction qui génère l'ensemble de Pareto semble fonctionner et semble bien gérer les cas où plusieurs etiquettes sont identiques. Ainsi avec cette nouvelle fonction, nous allons pouvoir modifier notre algorithme de correction d'etiquette afin de venir récupérer le chemin emprunté."
   ]
  },
  {
   "cell_type": "markdown",
   "metadata": {},
   "source": [
    "#### Correction d'Etiquette améliorée."
   ]
  },
  {
   "cell_type": "markdown",
   "metadata": {},
   "source": [
    "Nous avons écrit dans un premier temps, quelques fonctions qui vont permettre de gérer notre nouvelle modélisation par les dictionnaires.\n",
    "\n",
    "- la fonction **trans(d)** permet de prendre un dictionnaire de la forme que nous avons introduite et de ne récupérer que les étiquettes et de les mettre dans une liste python.\n",
    "\n",
    "- la fonction **recherche1** va permettre de récupérer toujours dans le dictionnaire introduit, l'étiquette dont le coût (la première composante), est le plus petit, ainsi que le prédécesseur qui a permis d'obtenir cette étiquette.\n",
    "\n",
    "- la fonction **recherche2** est notre fonction de **backtracking**, en effet comme dans tout algorithme de programmation dynamique nous avons une partie où on propage la solution et une partie où on retrouve le chemin qui a permis de trouver cette solution. La fonction est un peu particulière, pour l'expliquer nous allons nous placer à une étape k du processus de backtracking. Ainsi nous avons notre sommet courant $i_k$, avec ce sommet courant vient un vecteur $cont_k$ qui résume les consommations des ressources sur le chemin pour aller de $s$ à $i_k$. Pour trouver le prédécesseur de $i_k$ noté $i_{k-1}$ il faut trouver l'étiquette $cont_{k-1}$ dans l'ensemble des étiquettes de $i_{k-1}$, qui minimise la première composante des étiquettes sous la contrainte $cont_{k-1}[r]+g[i_{k-1}][i_k]['weight'][r] = cont_k[r]~~ \\forall r \\in \\{1,\\dots,R\\}$.\n"
   ]
  },
  {
   "cell_type": "code",
   "execution_count": 17,
   "metadata": {},
   "outputs": [],
   "source": [
    "def trans(d) :\n",
    "    res=[]\n",
    "    for k in d :\n",
    "        for E in d[k] :\n",
    "            res.append(E)\n",
    "    return(res)\n",
    "\n",
    "\n",
    "def recherche1 (d) :\n",
    "    pcc = []\n",
    "    cp = 1\n",
    "    pred = 0\n",
    "    for k in d :\n",
    "        for E in d[k] :\n",
    "            if (cp==1) :\n",
    "                cp+=1\n",
    "                pcc = E\n",
    "                pred = k\n",
    "\n",
    "            else :\n",
    "                b = min(pcc[0],E[0])\n",
    "                if (b==E[0]):\n",
    "                    pcc = E\n",
    "                    pred = k\n",
    "    return({'pred':pred,'pcc': pcc})\n",
    "\n",
    "\n",
    "def recherche2 (g,d,cont,R,curr,av) :\n",
    "\n",
    "    pcc = []\n",
    "    pred = []\n",
    "    cp = 1\n",
    "\n",
    "\n",
    "    for k in d :\n",
    "        for E in d[k] :\n",
    "            \n",
    "            test = [E[r]+g[curr][av]['weight'][r]-cont[r] for r in range(R+1)]\n",
    "            bl = all(i==0 for i in test)\n",
    "            if(bl==True):\n",
    "                if (cp==1) :\n",
    "                    pcc = E\n",
    "                    pred = k\n",
    "                    cp+=1\n",
    "                else :\n",
    "                    if(E[0]<pcc[0]) :\n",
    "                        pcc = E\n",
    "                        pred = k\n",
    "                        \n",
    "    return({'pred':pred,'pcc':pcc})\n",
    "\n",
    "\n",
    "def existe(Ep , d) :\n",
    "    res = False\n",
    "    for k in d :\n",
    "        if (Ep in d[k]) :\n",
    "            res = True\n",
    "            break\n",
    "    return(res)"
   ]
  },
  {
   "cell_type": "code",
   "execution_count": 18,
   "metadata": {},
   "outputs": [],
   "source": [
    "class Impossible(Exception):\n",
    "    pass\n",
    "\n",
    "\n",
    "\n",
    "def Correc_Etiq_bis (G,s,t,R,b):\n",
    "    tic = time.perf_counter()\n",
    "    \n",
    "    ETIQ = {} # dictionnaire d'etiquette\n",
    "    for i in G.nodes :\n",
    "        ETIQ[i] = {} # on initialise tout à l'ensemble vide.\n",
    "    \n",
    "    \n",
    "    # la liste L nous indique quand on doit arréter l'algorithme.\n",
    "    L = [s] # on initialise avec simplement le sommet s au départ.\n",
    "\n",
    "    ETIQ[s] = {s : [[0]*(R+1)]} \n",
    "     \n",
    "    \n",
    "    while(len(L)!=0):\n",
    "        \n",
    "        i = L.pop(0)\n",
    "        for j in G.successors(i):\n",
    "            for E in trans(ETIQ[i]) :\n",
    "                # on regarde si on peut aller de i à j en respectant toutes les contraintes de ressources.\n",
    "                test = [E[r]+G[i][j]['weight'][r]-b[r-1] for r in range(1,R+1)]\n",
    "                bl = all(i<=0 for i in test)\n",
    "                \n",
    "                # si il y a respect de toutes les contraintes on met à jour les Etiquettes.\n",
    "                if (bl ==True):\n",
    "                    \n",
    "\n",
    "                    # Ep est la nouvelle etiquette que on va rajouter à notre ensemble \n",
    "                    Ep = [E[r]+G[i][j]['weight'][r] for r in range(0,R+1)]\n",
    "\n",
    "                    # on regarde si l'étiquette Ep est pas déjà présente dans le dictionnaire.\n",
    "                    # si elle y est déjà on ne la rajoute pas.\n",
    "                    \n",
    "                    \n",
    "                    if (existe(Ep,ETIQ[j])==False) :\n",
    "                        if (i not in ETIQ[j]) :\n",
    "                            ETIQ[j][i] = [Ep]\n",
    "                        else :\n",
    "                            ETIQ[j][i].append(Ep)\n",
    "                        \n",
    "                        # on supprime les Etiquettes dominées.\n",
    "                        Pareto_bis(ETIQ[j])\n",
    "                        if(i in ETIQ[j]):\n",
    "                            if(Ep in ETIQ[j][i]):\n",
    "                                if(j not in L):\n",
    "                                    L.append(j)\n",
    "\n",
    "    # on choisit maintenant la meilleure etiquette\n",
    "    # on va aussi chercher le plus court chemin.\n",
    "    pcc = 0\n",
    "    trace = []\n",
    "\n",
    "    # variable pour se repérer.\n",
    "    curr = t\n",
    "    av = t\n",
    "\n",
    "    # vecteur de vérification.\n",
    "    cont = [0]*(R+1)\n",
    "    try :\n",
    "        trace.append(t)\n",
    "        d = recherche1 (ETIQ[t])\n",
    "        # mise à jour des sommets\n",
    "        curr = d['pred']\n",
    "        av = t\n",
    "\n",
    "        pcc = d['pcc']\n",
    "        cont = pcc\n",
    "        if (pcc == []) :\n",
    "            raise Impossible('probleme non faisable')\n",
    "        \n",
    "        # mise à jour de la trace.\n",
    "        trace.append(curr)\n",
    "        \n",
    "        while(curr!= s):\n",
    "            d = recherche2(G,ETIQ[curr],cont,R,curr,av)\n",
    "            trace.append(d['pred'])\n",
    "            tampon = curr\n",
    "            curr = d['pred']\n",
    "            av = tampon\n",
    "            cont = d['pcc']\n",
    "        if (pcc == []) :\n",
    "            raise Impossible('probleme non faisable')\n",
    "            \n",
    "    except Impossible :\n",
    "        toc = time.perf_counter()\n",
    "        return({'etat':'Impossible','temps':toc-tic})\n",
    "    \n",
    "    toc = time.perf_counter()\n",
    "    return({'pcc' : pcc , 'trace' : trace[::-1] , 'temps':toc-tic,'etat':'resolu'})"
   ]
  },
  {
   "cell_type": "markdown",
   "metadata": {},
   "source": [
    "##### Test du nouvel algorithme"
   ]
  },
  {
   "cell_type": "code",
   "execution_count": 19,
   "metadata": {},
   "outputs": [
    {
     "data": {
      "text/plain": [
       "{'pcc': [18, 4],\n",
       " 'trace': [1, 3, 5, 4, 6],\n",
       " 'temps': 0.001013900000000234,\n",
       " 'etat': 'resolu'}"
      ]
     },
     "execution_count": 19,
     "metadata": {},
     "output_type": "execute_result"
    }
   ],
   "source": [
    "g = nx.DiGraph()\n",
    "# ajout des noeuds du graphe.\n",
    "g.add_nodes_from(range(1,7))\n",
    "\n",
    "# on va ajouter les arrète (pas de contraintes)\n",
    "g.add_weighted_edges_from([(1,2,[2,4]),(1,3,[8,1]),(2,4,[3,4]),(2,3,[5,1]),(3,2,[6,1]),(3,5,[0,1]),(4,3,[1,1]),(4,5,[7,1]),(4,6,[6,1]),(5,4,[4,1]),(6,5,[2,2])])\n",
    "\n",
    "# on ajoute une contrainte.\n",
    "Correc_Etiq_bis (g,1,6,1,[4])"
   ]
  },
  {
   "cell_type": "markdown",
   "metadata": {},
   "source": [
    "Dans les deux cellules qui suivent nous avons comparé les résultats obtenus, entre le modèle Pulp et l'algorithme de correction d'étiquettes sur différents graphes générés à partir des fonctions que nous avons présentées plus tôt."
   ]
  },
  {
   "cell_type": "code",
   "execution_count": 20,
   "metadata": {},
   "outputs": [
    {
     "name": "stdout",
     "output_type": "stream",
     "text": [
      "{'pcc': [53, 22, 96, 85], 'trace': [0, 14], 'temps': 0.000499200000000144, 'etat': 'resolu'}\n",
      "Status: Optimal\n",
      "{'statu': 'Optimal', 'trace': [0, 14], 'consommations': [53.0, 22.0, 96.0, 85.0]}\n"
     ]
    }
   ],
   "source": [
    "b = [50,100,200]\n",
    "\n",
    "g,C,A,dict_R,dict_b = make_graphe(15,3,200,b)\n",
    "\n",
    "s = 0\n",
    "t = 14\n",
    "\n",
    "corr = Correc_Etiq_bis (g,s,t,3,b)\n",
    "print(corr)\n",
    "\n",
    "plp = path_PCC(15,C,A,s,t,dict_R,dict_b)\n",
    "print(plp)\n",
    "\n"
   ]
  },
  {
   "cell_type": "code",
   "execution_count": 21,
   "metadata": {
    "scrolled": true
   },
   "outputs": [
    {
     "name": "stdout",
     "output_type": "stream",
     "text": [
      "{'etat': 'Impossible', 'temps': 0.02640589999999854}\n",
      "Status: Infeasible\n",
      "{'statu': 'Infeasible'}\n"
     ]
    }
   ],
   "source": [
    "N = 70\n",
    "s,t = random_choose_node(N)\n",
    "b = [100,200,200]\n",
    "g,C,A,dict_R,dict_b = make_random_graphe(N,3,200,b,0.6)\n",
    "\n",
    "corr = Correc_Etiq_bis (g,s,t,3,b)\n",
    "print(corr)\n",
    "\n",
    "plp = path_PCC(N,C,A,s,t,dict_R,dict_b)\n",
    "print(plp)"
   ]
  },
  {
   "cell_type": "markdown",
   "metadata": {},
   "source": [
    "##### Mise en avant de la complexité."
   ]
  },
  {
   "cell_type": "markdown",
   "metadata": {},
   "source": [
    "Comme énoncé dans l'introduction le problème que nous traitons ici est un problème qui est **NP-difficile** et sa complexité théorique est dite \"semi polynomiale\", en effet si on considère $b_i~~i\\in \\{1,\\dots,R\\}$ les limites des contraintes, alors la complexité est donnée par $\\mathcal{O}(m\\prod_{i=1}^Rb_i)$ avec m le nombre d'arrête dans notre graphe. La complexité est ainsi dite pseudo polynomiale car elle dépend des données du problème considéré. Cependant cette complexité est une complexité dite \"au pire cas\", elle est impossible à observer dans la pratique. Le fait est que cette complexité augmente très vite quand la taille du graphe augmente.\n",
    "\n",
    "\n",
    "Pour mettre en avant ceci, nous avons calculé le temps de calcul de notre algorithme et l'avons comparé avec le temps de calcul du solveur CBC proposé par Pulp. Nous avons pour ceci généré des graphes aléatoires via notre fonction **make_random_graphe**, et avons tracé les temps de calcul en fonction du nombre de nœuds dans le graphe (N)."
   ]
  },
  {
   "cell_type": "code",
   "execution_count": 22,
   "metadata": {},
   "outputs": [],
   "source": [
    "tmp_correc = []\n",
    "tmp_pulp = []\n",
    "N_list = np.arange(5,75,5)\n",
    "buff_1 = [] # tampon pour venir moyenner pour l'algo\n",
    "buuf_2 = [] # tampon pour venir moyenner pour Pulp\n",
    "\n",
    "for N in N_list :\n",
    "    s,t = random_choose_node(N)\n",
    "    buff_1 = []\n",
    "    buff_2 = []\n",
    "    for i in range(10):\n",
    "        \n",
    "        b = [200,200,200]\n",
    "        \n",
    "        ## Correction ###\n",
    "        g,C,A,dict_R,dict_b = make_random_graphe(N,3,200,b,0.6)\n",
    "        buff_1.append(Correc_Etiq_bis(g,s,t,3,b)['temps'])\n",
    "        \n",
    "        ## Solveur CBC ##\n",
    "        prob = prob_PCC(N,C,A,s,t,dict_R,dict_b)\n",
    "        t1 = time.perf_counter()\n",
    "        prob.solve(PULP_CBC_CMD())\n",
    "        t2 = time.perf_counter()\n",
    "        buff_2.append(t2-t1)\n",
    "    \n",
    "    m1 = np.mean(buff_1)\n",
    "    m2 = np.mean(buff_2)\n",
    "    \n",
    "    tmp_correc.append(m1)\n",
    "    tmp_pulp.append(m2)"
   ]
  },
  {
   "cell_type": "code",
   "execution_count": 23,
   "metadata": {
    "scrolled": false
   },
   "outputs": [
    {
     "data": {
      "text/plain": [
       "<matplotlib.legend.Legend at 0x1af676adf70>"
      ]
     },
     "execution_count": 23,
     "metadata": {},
     "output_type": "execute_result"
    },
    {
     "data": {
      "image/png": "[encoded data removed]",
      "text/plain": [
       "<Figure size 720x720 with 1 Axes>"
      ]
     },
     "metadata": {
      "needs_background": "light"
     },
     "output_type": "display_data"
    }
   ],
   "source": [
    "fig = plt.figure(figsize=(10,10))\n",
    "plt.scatter(N_list,tmp_correc,c ='rebeccapurple',label='corre_etiq')\n",
    "plt.scatter(N_list,tmp_pulp,c ='peachpuff',label = 'Solver_CBC') # modèle pulp\n",
    "plt.grid()\n",
    "plt.xlabel('nombre de noeuds')\n",
    "plt.ylabel('temps de calcul')\n",
    "plt.title('Mise en avant de la complexité')\n",
    "plt.axvline(x=50,c = 'slateblue',linestyle=\"--\")\n",
    "plt.legend()"
   ]
  },
  {
   "cell_type": "markdown",
   "metadata": {},
   "source": [
    "Ici on peut observer plusieurs comportements intéressants :\n",
    "\n",
    "- On peut voir ici que pour de petites instances de notre problème, notre algorithme est plus rapide que le solveur CBC. Cependant quand le problème devient plus gros ($N>50)$ les temps de calcul sont relativements proches.\n",
    "\n",
    "- De plus le temps de calcul du solveur CBC semble quasiment linéaire, tandis que celui de notre algorithme se rapproche plus d'un comportement exponnentiel, avec une explosion à partir de N=50.\n"
   ]
  },
  {
   "cell_type": "markdown",
   "metadata": {},
   "source": [
    "## Le prétraitement"
   ]
  },
  {
   "cell_type": "markdown",
   "metadata": {},
   "source": [
    "Le algorithmes que nous avons présenté ont des complexités relativement élevées. Le but du prétraitement va justement être de regarder le graphe et de voir si on ne peut pas enlever certains sommets ou certaines arrètes dont on sait qu'elles ne participeront pas à la solution."
   ]
  },
  {
   "cell_type": "markdown",
   "metadata": {},
   "source": [
    "Pour cela, nous avons besoin de l'algorithme de Bellman ford. On retrouve la structure classique de l'algorithme de Bellman Ford, cependant la particularité de ce dernier est que l'on place en paramètre de la fonction le nombre entier $r$. Ce nombre correspond à la métrique celons laquelle on veut calculer un plus court chemin. Par exemple si on veut calculer le chemin le moins couteux (métrique de cout) on mettra r=0. si on veut calculer le plus court chemin en termes de consommation d'une ressource, on mettra le numéro de cette ressource en paramètre.\n",
    "\n",
    "Cette fonction, en plus du plus court chemin celons la métrique choisie, nous donnera sur ce même chemin, la longueur du chemin celons les différentes autres métriques.\n"
   ]
  },
  {
   "cell_type": "code",
   "execution_count": 24,
   "metadata": {},
   "outputs": [],
   "source": [
    "def Bel_Ford (g,s,r,R) :\n",
    "    # L est un dictionnnaire qui représente la distance pour aller à chaque sommets\n",
    "    L = {}\n",
    "    L[s] = [0 for i in range(R+1)]\n",
    "\n",
    "    pred = {}\n",
    "    pred[s] = s\n",
    "    \n",
    "    n = len(g.nodes()) # nombre de noeuds\n",
    "    \n",
    "    for i in g.nodes() :\n",
    "        if(i!=s) :\n",
    "            # initialisation à l'infini.\n",
    "            L[i] = [0 for i in range(R+1)]\n",
    "            L[i][r] = math.inf\n",
    "            # chaque sommet a lui même comme prédecesseur pour commencer.\n",
    "            pred[i] = i\n",
    "    \n",
    "    \n",
    "    for k in range(n-2):\n",
    "        # on regarde pour tous les noeuds.\n",
    "        for v in g.nodes() :\n",
    "            \n",
    "            # on propage la solution par les prédecesseurs\n",
    "            \n",
    "            for p in g.predecessors(v) :\n",
    "                \n",
    "                lpv = g[p][v]['weight'][r] \n",
    "                \n",
    "                if(L[p][r]+lpv<L[v][r]):\n",
    "                    \n",
    "                    L[v][r] = L[p][r]+lpv\n",
    "                    pred[v] = p\n",
    "                    for k in range(R+1):\n",
    "                        L[v][k] = L[p][k]+g[p][v]['weight'][k]\n",
    "    \n",
    "    return({'L' : L , 'pred':pred})"
   ]
  },
  {
   "cell_type": "markdown",
   "metadata": {},
   "source": [
    "### Création de plusieurs sous fonction.\n",
    "\n",
    "---\n",
    "\n",
    "L'algorithme de prétraitement est un algorithme qui est très long et très complexe. On y retrouve des grandes étapes que nous avons séparé en différentes fonctions, afin d'expliquer le rôle de chacune de ces étapes. C'est aussi un très bon moyen pour corriger des erreurs dans l'algorithme final si on a séparé le problème en sous problème."
   ]
  },
  {
   "cell_type": "markdown",
   "metadata": {},
   "source": [
    "#### Recherche des plus courts chemin."
   ]
  },
  {
   "cell_type": "markdown",
   "metadata": {},
   "source": [
    "Pour la réalisation de cet algorithme de prétraitement, il faut que l'on dispose de deux choses :\n",
    "\n",
    "- les plus courts chemins entre s (la source) et tous les autres sommets du graphes pccs. Ceci se réalise avec l'algorithme de Bellman-Ford que nous avons expliqué précédemment.\n",
    "\n",
    "- les plus courts chemins entre tous les sommets, et le sommet t (le puit). Ceci se réalise d'une manière un peu différente. Pour réaliser ceci nous avons décidé de créer un nouveau graphe gp qui contient les mêmes sommets que g mais dont tous les arcs sont retournés par rapport à g. Ensuite on effectue un Bellman Ford depuis t sur ce nouveau graphe.\n",
    "\n",
    "- Ici on parle bien **des** plus courts chemins car nous calculons le plus court chemin pour chaque \"métrique\". Une métrique est une valuation des arcs qui nous permet d'attribuer une valeur à un chemin dans le graphe. Ici nous disposons de plusieurs métriques. Nous avons la métrique de cout qui est en fait la métrique principale, celle par rapport à laquelle on doit minimiser notre chemin. Nous avons ensuite les métriques de consommation, qui sont correspondent aux consommations des ressources sur chaque arc.\n",
    "\n",
    "\n",
    "**Remarques :** \n",
    "+ Le problème sera dit évident si jamais on se retrouve dans le cas très simple où si on regarde le plus court chemin, selon la métrique de cout, entre la source et le puit et que ce chemin respecte les contraintes du problème.\n",
    "\n",
    "+ Le problème sera dit insoluble si jamais on est dans le cas où on a un des plus courts chemins dans une des métriques de consommation de ressource, qui ne respecte pas la contrainte correspondant à cette ressource.\n"
   ]
  },
  {
   "cell_type": "code",
   "execution_count": 25,
   "metadata": {},
   "outputs": [],
   "source": [
    "def PCC (gp,s,t,R) :\n",
    "    pccs = {} # plus court chemin en partant depuis s\n",
    "    pcct = {} # plus court chemin pour aller jusqu'à t\n",
    "    \n",
    "    if (s not in gp.nodes()):\n",
    "        print('pb 1')\n",
    "    \n",
    "    if (t not in gp.nodes()):\n",
    "        print('pb 2')\n",
    "    \n",
    "    for u in gp.nodes() :\n",
    "        pccs[u] = {}\n",
    "        pcct[u] = {}\n",
    "        \n",
    "        ## Init pour chaque ressource ##\n",
    "        for r in range(R+1) :\n",
    "            pccs[u][r] = {}\n",
    "            pcct[u][r] = {}\n",
    "    \n",
    "    \n",
    "    # on retourne le graphe.\n",
    "    gp_bis = nx.DiGraph()\n",
    "    gp_bis.add_nodes_from(gp.nodes())\n",
    "                         \n",
    "    for i,j in gp.edges() :\n",
    "        gp_bis.add_weighted_edges_from([(j,i,gp[i][j]['weight'])])\n",
    "\n",
    "    for r in range(R+1):\n",
    "        # on va chercher les plus courtes distances\n",
    "        \n",
    "        # sur les chemins de s à i pour tout i\n",
    "        res = Bel_Ford(gp,s,r,R)['L']\n",
    "        \n",
    "        # sur les chemins de i à t pour tout i\n",
    "        res2 = Bel_Ford(gp_bis,t,r,R)['L']\n",
    "        \n",
    "        for u in res :\n",
    "            pccs[u][r] = res[u]\n",
    "            \n",
    "        for u in res2 :\n",
    "            pcct[u][r] = res2[u]\n",
    "                \n",
    "     \n",
    "       \n",
    "    return ({'PCCS' : pccs,'PCCT' : pcct})"
   ]
  },
  {
   "cell_type": "markdown",
   "metadata": {},
   "source": [
    "#### Mise à jour du majorant"
   ]
  },
  {
   "cell_type": "markdown",
   "metadata": {},
   "source": [
    "Le but de l'algorithme est de supprimer des arcs et/ou des sommets du graphe, de façon à avoir un graphe plus petit pour que le problème soit plus petit. Ce que l'on appelle un majorant du problème c'est une valeur réelle qui va servir de borne supérieure à la longueur en cout de notre problème.\n",
    "\n",
    "Le principe est le suivant : \n",
    "\n",
    "- Dans un premier temps nous allons regarder les plus courts chemins selon chaque métrique de consommation de ressources, permettant d'aller à t. Nous allons regarder sur ces plus courts chemins si toutes les contraintes de ressources sont respectées. Si elles le sont alors on regarde sur ce chemin correspondant la longueur selon la métrique de cout et si cette dernière est inférieure au majorant on met le majorant à jour.\n",
    "\n",
    "- Dans la seconde partie nous allons boucler sur les arrêtes (u,v) de notre graphe. On va venir former les chemins du type s->u->v->t. On va former différents chemins en regardant les plus courts selon chaque métrique sur chaque portion s->u ou v->t. Ces différents chemins vont nous permettre ainsi de mettre à jour notre majorant.\n"
   ]
  },
  {
   "cell_type": "code",
   "execution_count": 26,
   "metadata": {},
   "outputs": [],
   "source": [
    "def MAJ_ORANT (gp,b,R,s,t,pccs,pcct,majorant):\n",
    "    U = majorant\n",
    "    for r in range(1,R+1):\n",
    "        bl = True\n",
    "        for q in range(1,R+1):\n",
    "            if(pccs[t][r][q]>b[q-1]):\n",
    "                bl =False\n",
    "        if(bl ==True) :\n",
    "            if(pccs[t][r][0]<U):\n",
    "                U = pccs[t][r][0]\n",
    "                \n",
    "    \n",
    "    \n",
    "    for u,v in gp.edges():\n",
    "        for P in pccs[u].values():\n",
    "            for Pp in pcct[v].values() :\n",
    "                bl = True\n",
    "                for r in range(1,R+1):\n",
    "                    if(P[r]+gp[u][v]['weight'][r]+Pp[r]>b[r-1]):\n",
    "                        bl =False\n",
    "                        break\n",
    "                        \n",
    "                if(bl ==True and P[0]+gp[u][v]['weight'][0]+Pp[0]<U) :\n",
    "                    U = P[0]+gp[u][v]['weight'][0]+Pp[0]\n",
    "    \n",
    "    return(U)"
   ]
  },
  {
   "cell_type": "markdown",
   "metadata": {},
   "source": [
    "#### Elimination des sommets"
   ]
  },
  {
   "cell_type": "markdown",
   "metadata": {},
   "source": [
    "Cette fonction va nous permettre de supprimer certains nœuds du graphe qui ne font pas parti de notre plus court chemin. la philosophie est assez simple. On considère un nœud $i$, et on regarde les plus courts chemins pour faire $s->i$ puis $i->t$ selon toutes les ressources. Si selon la ressource 0, cette distance est strictement supérieure au majorant, alors on peut supprimer le sommet et si selon les autres ressources cette distance est supérieure strictement aux limites du problème, on peut aussi supprimer ce sommet."
   ]
  },
  {
   "cell_type": "code",
   "execution_count": 38,
   "metadata": {},
   "outputs": [],
   "source": [
    "def ELIM_SOMMETS (gp,b,R,s,t,U,pccs,pcct,chg):\n",
    "    res = chg\n",
    "    nodes = [i for i in gp.nodes()]\n",
    "\n",
    "    for i in nodes:\n",
    "        # on ne supprime pas les noeuds s ou t du graphe.\n",
    "        if(i==s or i==t): \n",
    "            pass\n",
    "        else :\n",
    "            for r in range(R+1):\n",
    "                if(r==0):\n",
    "                    if(pccs[i][0][0]+pcct[i][0][0]>U):\n",
    "                        e = [(j,i) for j in g.predecessors(i)]+[(i,j) for j in g.successors(i)]\n",
    "                        gp.remove_edges_from(e)\n",
    "                        gp.remove_node(i)\n",
    "                        res = True\n",
    "                        break\n",
    "                else :\n",
    "                    \n",
    "                    if(pccs[i][r][r]+pcct[i][r][r]>b[r-1]):\n",
    "                        e = [(j,i) for j in g.predecessors(i)]+[(i,j) for j in g.successors(i)]\n",
    "                        gp.remove_edges_from(e)\n",
    "                        gp.remove_node(i)\n",
    "                        res = True\n",
    "                        break\n",
    "    return(res)\n"
   ]
  },
  {
   "cell_type": "markdown",
   "metadata": {},
   "source": [
    "#### Elimination des arcs"
   ]
  },
  {
   "cell_type": "markdown",
   "metadata": {},
   "source": [
    "Cette fonction nous permet d'éliminer des arcs, et la philosophie est exactement la même que pour supprimer des sommets sauf que maintenant on considère un arc $(i,j)$, et on regarde $s->i$, $i->j$ et $j->t$ et on compare ce chemin au majorant et aux limites de ressources."
   ]
  },
  {
   "cell_type": "code",
   "execution_count": 39,
   "metadata": {},
   "outputs": [],
   "source": [
    "def ELIM_ARCS (gp,b,R,s,t,U,pccs,pcct,chg):\n",
    "    res = chg\n",
    "    edges = [(i,j) for i,j in gp.edges()]\n",
    "    for i,j in edges:\n",
    "        for r in range(R+1):\n",
    "            if(r==0):\n",
    "                if(pccs[i][0][0]+gp[i][j]['weight'][0]+pcct[j][0][0]>U):\n",
    "                    gp.remove_edge(i,j)\n",
    "                    res = True\n",
    "                    break\n",
    "            else :\n",
    "                if(pccs[i][r][r]+gp[i][j]['weight'][r]+pcct[j][r][r]>b[r-1]):\n",
    "                    gp.remove_edge(i,j)\n",
    "                    res = True\n",
    "                    break\n",
    "    return(res)"
   ]
  },
  {
   "cell_type": "markdown",
   "metadata": {},
   "source": [
    "#### Algorithme de prétraitement"
   ]
  },
  {
   "cell_type": "markdown",
   "metadata": {},
   "source": [
    "Nous rassemblons ensuite toutes ces fonctions, dans l'algorithme final qui nous donne ainsi notre algorithme de nettoyage de graphe."
   ]
  },
  {
   "cell_type": "code",
   "execution_count": 40,
   "metadata": {},
   "outputs": [],
   "source": [
    "def nettoyage (g,s,t,b,R) :\n",
    "    \n",
    "    tic = time.perf_counter()\n",
    "    \n",
    "    ### Données d'initialisation ###\n",
    "    \n",
    "    gp = nx.DiGraph() # c'est le graphe réduit que on va retourner à la fin\n",
    "    Cmax = 0\n",
    "    V = len(g.edges())\n",
    "    \n",
    "    L = 0             # minorant du problème\n",
    "    U = 0             # majorant du problème\n",
    "    \n",
    "    # copie de g dans le graphe gp.\n",
    "    \n",
    "    gp.add_nodes_from(g.nodes())\n",
    "    \n",
    "    for u,v in g.edges():\n",
    "        gp.add_weighted_edges_from([(u,v,g[u][v]['weight'])])\n",
    "        if(Cmax < g[u][v]['weight'][0]):\n",
    "            # on cherche le cout le plus important.\n",
    "            Cmax = g[u][v]['weight'][0]\n",
    "    \n",
    "    U = Cmax*(V-1) \n",
    "    \n",
    "    chg = True\n",
    "    \n",
    "    \n",
    "    while (chg == True) :\n",
    "        chg = False\n",
    "        \n",
    "        ### recherche des plus courts chemins ###\n",
    "        P = PCC (gp,s,t,R)\n",
    "        pccs = P['PCCS']\n",
    "        pcct = P['PCCT']\n",
    "        \n",
    "        ### Recherche d'une solution Evidente ###\n",
    "        ### + mise à jour du minorant ###\n",
    "        sortie = False\n",
    "        for r in range(1,R+1):\n",
    "            if(pccs[t][r][r]>b[r-1]):\n",
    "                sortie = True\n",
    "                break\n",
    "                \n",
    "        if (sortie==True):\n",
    "            break\n",
    "\n",
    "        che = pccs[t][0]\n",
    "        l = [che[k]-b[k-1] for k in range(1,R+1)]\n",
    "\n",
    "        bl = all(i <= 0 for i in l)\n",
    "\n",
    "        if(bl == True):\n",
    "            toc = time.perf_counter()\n",
    "            # on construit un graphe avec seulement le chemin dedans.\n",
    "            d = Bel_Ford (gp,s,0,R)['pred']\n",
    "            trace = [t]\n",
    "            curr = t\n",
    "            \n",
    "            while (curr != s) :\n",
    "                trace.append(d[curr])\n",
    "                curr = d[curr]\n",
    "                \n",
    "            gp = nx.DiGraph()\n",
    "            gp.add_nodes_from(trace)\n",
    "            trace = trace[::-1] \n",
    "            \n",
    "            \n",
    "            for i in range(len(trace)-1):\n",
    "                u0 = trace[i]\n",
    "                u1 = trace[i+1]\n",
    "                gp.add_weighted_edges_from([(u0,u1,g[u0][u1]['weight'])])\n",
    "                \n",
    "            break\n",
    "            \n",
    "        else :\n",
    "            L = che[0] # minorant du problème\n",
    "        \n",
    "        \n",
    "        ### mise à jour du majorant ###\n",
    "        U = MAJ_ORANT (gp,b,R,s,t,pccs,pcct,U)\n",
    "        \n",
    "        ### Elimination des sommets ###\n",
    "        chg = ELIM_SOMMETS (gp,b,R,s,t,U,pccs,pcct,chg)\n",
    "        \n",
    "        ### Elimination des arcs ###\n",
    "        chg = ELIM_ARCS (gp,b,R,s,t,U,pccs,pcct,chg)\n",
    "        \n",
    "    toc = time.perf_counter()\n",
    "    \n",
    "    return({'graphe': gp , 'U': U, 'Temps':toc-tic})\n",
    "    \n",
    "    "
   ]
  },
  {
   "cell_type": "markdown",
   "metadata": {},
   "source": [
    "#### Test algorithme de nettoyage."
   ]
  },
  {
   "cell_type": "markdown",
   "metadata": {},
   "source": [
    "Cet algorithme est très compliqué à venir vérifier car dans son exécution il est assez complexe et long, ainsi il est compliqué de prévoir les arcs ou les nœuds qui vont être éliminés au cours des opérations, ainsi pour tester cet algorithme nous allons créer des graphes aléatoires, faire tourner l'algorithme de correction d'étiquette qui lui a été vérifié, ensuite nous allons faire tourner l'algorithme de nettoyage et ensuite de nouveau l'algorithme de correction, pour voir si nous obtenons les mêmes résultats avec les deux méthodes."
   ]
  },
  {
   "cell_type": "code",
   "execution_count": 89,
   "metadata": {
    "scrolled": true
   },
   "outputs": [
    {
     "name": "stdout",
     "output_type": "stream",
     "text": [
      "nombre de noeuds avant nettoyage : 70\n",
      "nombre d'arrètes avant nettoyage : 2874\n",
      "Resultat sans nettoyage : {'pcc': [125, 55, 182, 118], 'trace': [17, 51], 'temps': 0.0647926000001462, 'etat': 'resolu'}\n",
      "\n",
      "-------\n",
      "\n",
      "nombre de noeuds après nettoyage : 2\n",
      "nombre d'arrètes après nettoyage : 1\n",
      "Resultat avec nett : {'pcc': [125, 55, 182, 118], 'trace': [17, 51], 'temps': 0.00020490000042627798, 'etat': 'resolu'}\n"
     ]
    }
   ],
   "source": [
    "N = 70 # nombre de noeuds dans le graphe.\n",
    "s,t = random_choose_node(N)\n",
    "b = [100,200,200]\n",
    "g,C,A,dict_R,dict_b = make_random_graphe(N,3,200,b,0.6)\n",
    "\n",
    "corr = Correc_Etiq_bis (g,s,t,3,b)\n",
    "print(\"nombre de noeuds avant nettoyage : {}\".format(len(g.nodes())))\n",
    "print(\"nombre d'arrètes avant nettoyage : {}\".format(len(g.edges())))\n",
    "print(\"Resultat sans nettoyage : \",end='')\n",
    "print(corr)\n",
    "print(\"\")\n",
    "print(\"-------\")\n",
    "print(\"\")\n",
    "\n",
    "gp = nettoyage (g,s,t,b,3)['graphe'] # on nettoie le graphe.\n",
    "corr2 = Correc_Etiq_bis (gp,s,t,3,b)\n",
    "print(\"nombre de noeuds après nettoyage : {}\".format(len(gp.nodes())))\n",
    "print(\"nombre d'arrètes après nettoyage : {}\".format(len(gp.edges())))\n",
    "print(\"Resultat avec nett : \",end='')\n",
    "print(corr2)\n"
   ]
  },
  {
   "cell_type": "markdown",
   "metadata": {},
   "source": [
    "Nous avons fait tourner cette cellule de nombreuses fois, et à chaque fois l'algorithme de nettoyage, nous permettait de réduire considérablement le graph, et ainsi le temps de calcul de l'algorithme de correction d'étiquette. Ce qui serait maintenant intéressant, c'est de comparer les temps de calcul de l'algorithme de correction d'étiquette, avec et sans nettoyage. En effet si le nettoyage est beaucoup trop long, il n'a aucun intérêt dans la résolution de notre problème. c'est ce que nous allons faire ici. Nous allons procéder de manière très similaire à la mise en avant de la complexité."
   ]
  },
  {
   "cell_type": "code",
   "execution_count": 74,
   "metadata": {},
   "outputs": [],
   "source": [
    "tmp_std = [] # temps sans nettoyage\n",
    "tmp_nett = [] # temps avec nettoyage.\n",
    "N_list = np.arange(20,75,5)\n",
    "\n",
    "\n",
    "for N in N_list :\n",
    "    s = 0\n",
    "    t = N-1\n",
    "    buff_1 = []\n",
    "    buff_2 = []\n",
    "    \n",
    "    b = [200,200,200]\n",
    "    \n",
    "    \n",
    "    for i in range(10):\n",
    "        \n",
    "        g,C,A,dict_R,dict_b = make_random_graphe(N,3,200,b,0.6) # on fait un graphe aléatoire.\n",
    "        \n",
    "        ## Correction ###\n",
    "        buff_1.append(Correc_Etiq_bis(g,s,t,3,b)['temps']) \n",
    "        \n",
    "        ## Correction + Nettoyage ##\n",
    "        t1 = time.perf_counter()\n",
    "        gp = nettoyage (g,s,t,b,3)['graphe']\n",
    "        cor = Correc_Etiq_bis(gp,s,t,3,b)['temps']\n",
    "        t2 = time.perf_counter()\n",
    "        \n",
    "        buff_2.append(t2-t1)\n",
    "    \n",
    "    m1 = np.mean(buff_1)\n",
    "    m2 = np.mean(buff_2)\n",
    "    \n",
    "    tmp_std.append(m1)\n",
    "    tmp_nett.append(m2)"
   ]
  },
  {
   "cell_type": "code",
   "execution_count": 43,
   "metadata": {
    "scrolled": false
   },
   "outputs": [
    {
     "data": {
      "text/plain": [
       "<matplotlib.legend.Legend at 0x1af67412220>"
      ]
     },
     "execution_count": 43,
     "metadata": {},
     "output_type": "execute_result"
    },
    {
     "data": {
      "image/png": "[encoded data removed]",
      "text/plain": [
       "<Figure size 720x720 with 1 Axes>"
      ]
     },
     "metadata": {
      "needs_background": "light"
     },
     "output_type": "display_data"
    }
   ],
   "source": [
    "fig = plt.figure(figsize=(10,10))\n",
    "plt.scatter(N_list,tmp_std,c ='rebeccapurple',label='sans nettoayge')\n",
    "plt.scatter(N_list,tmp_nett,c ='peachpuff',label = 'avec nettoyage') # modèle pulp\n",
    "plt.grid()\n",
    "plt.xlabel('nombre de noeuds')\n",
    "plt.ylabel('temps de calcul')\n",
    "plt.title('Comparaison avec\\sans nettoyage')\n",
    "plt.legend()"
   ]
  },
  {
   "cell_type": "markdown",
   "metadata": {},
   "source": [
    "On peut voir ici que justement, faire tourener l'algortihme de nettoyage ne fait que augmenter considérablement le temps de calcul et n'a donc ici pas de réel utilité."
   ]
  },
  {
   "cell_type": "markdown",
   "metadata": {},
   "source": [
    "## Projet GPS"
   ]
  },
  {
   "cell_type": "markdown",
   "metadata": {},
   "source": [
    "### Motivation\n",
    "\n",
    "Maintenant que nous avons testé tous nos algorithmes nous trouvions intéressant de venir se placer dans un cadre concret et quoi de plus naturel que de se placer dans le graphe du réseau routier français. Quand on pense au plus court chemin on pense souvent en termes de déplacement et à l'approche des vacances on peut ainsi essayer de trouver les meilleurs trajets reliant certaines grandes villes française, sous certaines contraintes comme la consommation de carburant, le temps de trajet ou encore le prix des péages afin de faire des économies sur le déplacement."
   ]
  },
  {
   "cell_type": "markdown",
   "metadata": {},
   "source": [
    "### Un peu de data-scrapping pour changer des graphes.\n",
    "\n",
    "Afin de récupérer l'ensemble des données nécessaires à ce petit projet, nous avons réalisé du data-scrapping, c'est à dire récupérer des données sur internet via un algorithme. Nous vous avons fourni l'ensemble des codes qui concernent cette partie dans un autre notebook que nous avons détaillé. Pour la suite, seul les fichiers csv, que nous vous avons fournis sont utiles.\n",
    "\n",
    "**Attention :**  Nous vous déconseillons d'exécuter le notebook qui se rapporte à cette partie, en effet ce notebook est très sensible aux mises à jour de google et nous-mêmes nous avons rencontré plusieurs problèmes de compatibilité ou encore de blocage d'adresse IP et nous ne souhaitons pas que cela vous arrive. Nous vous l'avons simplement transmis car il représente une partie importante de notre projet."
   ]
  },
  {
   "cell_type": "markdown",
   "metadata": {},
   "source": [
    "### Lecture et traitement des données"
   ]
  },
  {
   "cell_type": "markdown",
   "metadata": {},
   "source": [
    "Pour ce projet nous disposons de deux fichiers de type csv.\n",
    "\n",
    "- Le premier fichier **commune1.csv** nous a été donné lors du premier semestre au cours du séance de travaux pratiques, il contient énormément de données mais surtout les longitudes et les lattitudes de toutes les communes francaise. Cela nous servira à faire un fond de carte.\n",
    "\n",
    "- Le second **Reseaux_routier_VF.csv** est le résultat de notre recherche sur internet"
   ]
  },
  {
   "cell_type": "code",
   "execution_count": 79,
   "metadata": {},
   "outputs": [],
   "source": [
    "df_commune1=pd.read_csv('commune1.csv')\n",
    "df_GPS_2 = pd.read_table('Reseaux_routier_VF.txt',sep=\",\")\n",
    "df_commune1=df_commune1.fillna(0)\n",
    "long = df_commune1['long']\n",
    "lat = df_commune1['lat']\n",
    "del df_GPS_2['0']"
   ]
  },
  {
   "cell_type": "code",
   "execution_count": 80,
   "metadata": {},
   "outputs": [],
   "source": [
    "ville_d = list(set(df_GPS_2['depart']))\n",
    "ville_a = list(set(df_GPS_2['arrive']))\n",
    "villes = list(set(ville_d+ville_a))\n",
    "villes = list(set([v.replace(\" \", \"\") for v in villes]))\n",
    "villes = sorted(villes)\n",
    "\n",
    "# variable contenant toutes les villes sauf GENEVE,SOISSONS,VIRTON,MONACO,SAINT-BREVIN.\n",
    "# Ces villes ne sont soient pas en France, soient dures à trouver\n",
    "\n",
    "villes1 = [ville  for ville in villes if (ville!='GENEVE')]\n",
    "villes1 = [ville  for ville in villes1 if (ville!='SOISSONS')]\n",
    "villes1 = [ville  for ville in villes1 if (ville!='VIRTON')]\n",
    "villes1 = [ville  for ville in villes1 if (ville!='MONACO')]\n",
    "villes1 = [ville  for ville in villes1 if (ville!='SAINT-BREVIN')]"
   ]
  },
  {
   "cell_type": "code",
   "execution_count": 81,
   "metadata": {},
   "outputs": [],
   "source": [
    "GPS = {}\n",
    "for ville in villes1 :\n",
    "    ville =ville.replace(\" \", \"\") \n",
    "    GPS[ville]=[]\n",
    "    try:\n",
    "        lg = float(df_commune1[df_commune1['com_nom']==ville]['long'])\n",
    "        lt = float(df_commune1[df_commune1['com_nom']==ville]['lat'])\n",
    "        GPS[ville].append(lg)\n",
    "        GPS[ville].append(lt)\n",
    "    \n",
    "    # except à cause de la ville de la rochelle.\n",
    "    except:\n",
    "        lg = float(df_commune1[df_commune1['com_nom']==ville]['long'].values[1])\n",
    "        lt = float(df_commune1[df_commune1['com_nom']==ville]['lat'].values[1])\n",
    "        GPS[ville].append(lg)\n",
    "        GPS[ville].append(lt)\n",
    "\n",
    "# On ajoute ces villes à la main\n",
    "\n",
    "GPS['GENEVE']=[6.14569,46.20222]\n",
    "GPS['SOISSONS']=[3.323420,49.376636]\n",
    "GPS['VIRTON']=[5.533507,49.567574]\n",
    "GPS['MONACO'] = [7.424616,43.738418]\n",
    "GPS['SAINT-BREVIN']=[-2.165807,47.246659]"
   ]
  },
  {
   "cell_type": "markdown",
   "metadata": {},
   "source": [
    "Pour pouvoir naviguer simplement entre toutes les villes, on va créer la variable **codage** de la facon suivante."
   ]
  },
  {
   "cell_type": "code",
   "execution_count": 82,
   "metadata": {},
   "outputs": [],
   "source": [
    "codage={}\n",
    "for i in range(len(villes)):\n",
    "        codage[villes[i]]=i\n",
    "        codage[i]=villes[i]"
   ]
  },
  {
   "cell_type": "markdown",
   "metadata": {},
   "source": [
    "### Création des matrices pour le modèle Pulp"
   ]
  },
  {
   "cell_type": "markdown",
   "metadata": {},
   "source": [
    "Ici avec les données que nous avons, nous allons essayer de minimiser le trajet en terme de distance en imposant par exemple des contraintes sur le péage le temps de trajet, ou encore le prix du carburant. L'ensemble de ces données ont été recueillies sur le site **via michelin**"
   ]
  },
  {
   "cell_type": "code",
   "execution_count": 83,
   "metadata": {},
   "outputs": [],
   "source": [
    "N = len(villes)\n",
    "\n",
    "C = np.zeros((N,N))\n",
    "R1 = np.zeros((N,N))\n",
    "R2 = np.zeros((N,N))\n",
    "R3 = np.zeros((N,N))\n",
    "\n",
    "for u in list(df_GPS_2.index):\n",
    "    row = list(df_GPS_2.iloc[u])\n",
    "    i = codage[row[0]]\n",
    "    j = codage[row[1]]\n",
    "    c = row[2]\n",
    "    r1 = row[3]\n",
    "    r2 = row[4]\n",
    "    r3 = row[5]\n",
    "    \n",
    "    # entre deux villes, on peut effectuer un trajet dans les deux sens.\n",
    "    # les sens interdits n'existent pas ici.\n",
    "    C[i][j]= c\n",
    "    C[j][i]= c\n",
    "    \n",
    "    # on récupère les contraintes.\n",
    "    R1[i][j] = r1\n",
    "    R1[j][i] = r1\n",
    "    R2[i][j] = r2\n",
    "    R2[j][i] = r2\n",
    "    R3[i][j] = r3\n",
    "    R3[j][i] = r3\n",
    "\n",
    "R = {1:R1,2:R2,3:R3} # dictionnaire des consommations de ressources."
   ]
  },
  {
   "cell_type": "code",
   "execution_count": 84,
   "metadata": {},
   "outputs": [
    {
     "data": {
      "text/html": [
       "<div>\n",
       "<style scoped>\n",
       "    .dataframe tbody tr th:only-of-type {\n",
       "        vertical-align: middle;\n",
       "    }\n",
       "\n",
       "    .dataframe tbody tr th {\n",
       "        vertical-align: top;\n",
       "    }\n",
       "\n",
       "    .dataframe thead th {\n",
       "        text-align: right;\n",
       "    }\n",
       "</style>\n",
       "<table border=\"1\" class=\"dataframe\">\n",
       "  <thead>\n",
       "    <tr style=\"text-align: right;\">\n",
       "      <th></th>\n",
       "      <th>depart</th>\n",
       "      <th>arrive</th>\n",
       "      <th>distance</th>\n",
       "      <th>carbu</th>\n",
       "      <th>peage</th>\n",
       "      <th>duree</th>\n",
       "    </tr>\n",
       "  </thead>\n",
       "  <tbody>\n",
       "    <tr>\n",
       "      <th>0</th>\n",
       "      <td>GENEVE</td>\n",
       "      <td>DIJON</td>\n",
       "      <td>264.00</td>\n",
       "      <td>21.09</td>\n",
       "      <td>26.7</td>\n",
       "      <td>160</td>\n",
       "    </tr>\n",
       "    <tr>\n",
       "      <th>1</th>\n",
       "      <td>NANTES</td>\n",
       "      <td>BREST</td>\n",
       "      <td>297.00</td>\n",
       "      <td>23.83</td>\n",
       "      <td>0.0</td>\n",
       "      <td>208</td>\n",
       "    </tr>\n",
       "    <tr>\n",
       "      <th>2</th>\n",
       "      <td>SAINT-BREVIN</td>\n",
       "      <td>NANTES</td>\n",
       "      <td>69.00</td>\n",
       "      <td>5.79</td>\n",
       "      <td>0.0</td>\n",
       "      <td>74</td>\n",
       "    </tr>\n",
       "    <tr>\n",
       "      <th>3</th>\n",
       "      <td>TARBES</td>\n",
       "      <td>TOULOUSE</td>\n",
       "      <td>158.00</td>\n",
       "      <td>12.78</td>\n",
       "      <td>8.8</td>\n",
       "      <td>113</td>\n",
       "    </tr>\n",
       "    <tr>\n",
       "      <th>4</th>\n",
       "      <td>TARBES</td>\n",
       "      <td>PAU</td>\n",
       "      <td>45.09</td>\n",
       "      <td>3.86</td>\n",
       "      <td>2.8</td>\n",
       "      <td>46</td>\n",
       "    </tr>\n",
       "    <tr>\n",
       "      <th>...</th>\n",
       "      <td>...</td>\n",
       "      <td>...</td>\n",
       "      <td>...</td>\n",
       "      <td>...</td>\n",
       "      <td>...</td>\n",
       "      <td>...</td>\n",
       "    </tr>\n",
       "    <tr>\n",
       "      <th>93</th>\n",
       "      <td>BESANCON</td>\n",
       "      <td>GENEVE</td>\n",
       "      <td>177.00</td>\n",
       "      <td>14.50</td>\n",
       "      <td>0.0</td>\n",
       "      <td>163</td>\n",
       "    </tr>\n",
       "    <tr>\n",
       "      <th>94</th>\n",
       "      <td>BORDEAUX</td>\n",
       "      <td>LIMOGES</td>\n",
       "      <td>222.00</td>\n",
       "      <td>17.98</td>\n",
       "      <td>0.0</td>\n",
       "      <td>174</td>\n",
       "    </tr>\n",
       "    <tr>\n",
       "      <th>95</th>\n",
       "      <td>LILLE</td>\n",
       "      <td>AMIENS</td>\n",
       "      <td>140.00</td>\n",
       "      <td>11.38</td>\n",
       "      <td>9.3</td>\n",
       "      <td>118</td>\n",
       "    </tr>\n",
       "    <tr>\n",
       "      <th>96</th>\n",
       "      <td>AMIENS</td>\n",
       "      <td>LAON</td>\n",
       "      <td>130.00</td>\n",
       "      <td>10.47</td>\n",
       "      <td>8.5</td>\n",
       "      <td>86</td>\n",
       "    </tr>\n",
       "    <tr>\n",
       "      <th>97</th>\n",
       "      <td>NICE</td>\n",
       "      <td>MONACO</td>\n",
       "      <td>21.01</td>\n",
       "      <td>1.88</td>\n",
       "      <td>2.4</td>\n",
       "      <td>37</td>\n",
       "    </tr>\n",
       "  </tbody>\n",
       "</table>\n",
       "<p>98 rows × 6 columns</p>\n",
       "</div>"
      ],
      "text/plain": [
       "          depart    arrive  distance  carbu  peage  duree\n",
       "0         GENEVE     DIJON    264.00  21.09   26.7    160\n",
       "1         NANTES     BREST    297.00  23.83    0.0    208\n",
       "2   SAINT-BREVIN    NANTES     69.00   5.79    0.0     74\n",
       "3         TARBES  TOULOUSE    158.00  12.78    8.8    113\n",
       "4         TARBES       PAU     45.09   3.86    2.8     46\n",
       "..           ...       ...       ...    ...    ...    ...\n",
       "93      BESANCON    GENEVE    177.00  14.50    0.0    163\n",
       "94      BORDEAUX   LIMOGES    222.00  17.98    0.0    174\n",
       "95         LILLE    AMIENS    140.00  11.38    9.3    118\n",
       "96        AMIENS      LAON    130.00  10.47    8.5     86\n",
       "97          NICE    MONACO     21.01   1.88    2.4     37\n",
       "\n",
       "[98 rows x 6 columns]"
      ]
     },
     "execution_count": 84,
     "metadata": {},
     "output_type": "execute_result"
    }
   ],
   "source": [
    "df_GPS_2"
   ]
  },
  {
   "cell_type": "markdown",
   "metadata": {},
   "source": [
    "### Création du graphe correspondant via networkx"
   ]
  },
  {
   "cell_type": "code",
   "execution_count": 85,
   "metadata": {
    "scrolled": false
   },
   "outputs": [],
   "source": [
    "g_ville  = nx.DiGraph()\n",
    "for ind in list(df_GPS_2.index) :\n",
    "    l = list(df_GPS_2.iloc[ind,:])\n",
    "    i = codage[l[0].replace(\" \",\"\")]\n",
    "    j = codage[l[1].replace(\" \",\"\")]\n",
    "    g_ville.add_nodes_from([i,j])\n",
    "    \n",
    "    #On ajoute les arcs dans les deux sens \n",
    "    g_ville.add_edges_from([(i, j, {'weight': l[2:6]}), (j, i, {'weight': l[2:6]})])"
   ]
  },
  {
   "cell_type": "code",
   "execution_count": 86,
   "metadata": {},
   "outputs": [],
   "source": [
    "Adj_ville = np.zeros((N,N))\n",
    "for (u,v) in g_ville.edges():\n",
    "    Adj_ville[u,v]=1"
   ]
  },
  {
   "cell_type": "markdown",
   "metadata": {},
   "source": [
    "### Affichage sur fond de carte"
   ]
  },
  {
   "cell_type": "markdown",
   "metadata": {},
   "source": [
    "**Motivations** :\n",
    "\n",
    "Nous avions à cœur d'utiliser nos algorithmes dans un cas concret et ainsi avoir une visualisation et un\n",
    "côté pratique et ludique quant au test de nos algorithmes. Nous avons donc décidé de faire une fonction d'affichage\n",
    "en utilisant un fond de carte de France et de permettre à l'utilisateur de choisir comme dans un GPS les valeurs\n",
    "des contraintes souhaitées.\n",
    "\n",
    "\n",
    "**Utilisation de la fonction d'affichage** :\n",
    "\n",
    "Nous avons mis au point une fonction interactive depuis la fenêtre d'affiche.\n",
    "\n",
    "Celle ci calcule en temps réel dès qu'une nouvelle donnée est entrée.\n",
    "\n",
    "Les paramètres sur lesquels nous pouvons interagir sont les suivants :\n",
    "\n",
    "\n",
    "- On peut choisir une ville de départ et une ville d'arrivée en sélectionnant le volet déroulant.\n",
    "\n",
    "- On peut choisir des ressources pour les contraintes en entrant les valeurs souhaitées dans les cases correspondantes.\n",
    "\n",
    "- Enfin, une case que l'on peut cocher ou décocher permet d'afficher la solution avec l'algorithme de correction d'étiquette\n",
    "ou avec l'algorithme de pré-traitement.\n",
    "\n",
    "\n",
    "\n",
    "\n",
    "\n",
    "Dans le cas où l'on utilise **la correction d'étiquette** mais **sans le pré-traitement**, on affiche sur la carte :\n",
    "\n",
    "- en bleu : le graphe complet\n",
    "- en rouge : la solution du problème\n",
    "- La ville de départ : voiture verte\n",
    "- ville d'arrivée : une voiture rouge\n",
    "\n",
    "On donne aussi les valeurs avec le modèle Pulp et de celles avec la correction d'étiquettes.\n",
    "On donne aussi le temps de calcul des deux algorithmes.\n",
    "\n",
    "**Remarques :**\n",
    "\n",
    "On peut cliquer sur les sommets pour faire afficher le nom de la ville.\n",
    "\n",
    "\n",
    "\n",
    "\n",
    "\n",
    "Dans le cas où l'on applique **le pré-traitement**, on affiche avec le même principe :\n",
    "\n",
    "- en bleu : le graphe réduit aux sommets et arcs réalisables\n",
    "- en rouge : la solution du problème\n",
    "- La ville de départ : voiture verte\n",
    "- ville d'arrivée : une voiture rouge\n",
    "\n",
    "**Remarques :**\n",
    "\n",
    "Comme le graphe et la solution sont confondues, nous avons joué sous l'épaisseur des traits,\n",
    "Ainsi, on peut bien voir en rouge et en bleu les arcs précédemment définis\n",
    "\n",
    "**Commentaires :**\n",
    "\n",
    "On remarquera que notre algorithme de pré-traitement est relativement efficace car dès que le problème est réalisable, seule\n",
    "le graphe sous-jacent réduit correspond à solution de notre problème.\n",
    "\n",
    "\n",
    "\n",
    "\n",
    "**Instance de Test :**\n",
    "\n",
    "Nous vous laissons, le soin de tester sur toutes les combinaisons de villes et des contraintes que vous le voulez.\n",
    "\n",
    "A titre indicatif, pour illustrer que la correction d'étiquette retourne bien le plus court chemin sous contrainte vous pouvez\n",
    "sur le trajet RENNES-PERPIGNANT jouer sur le péage (le passer à 50 par exemple).\n",
    "\n",
    "Mais on trouve des modification de chemin avec jouant sur d'autres contraintes sur de multiples trajets (principalement sur des chemins\n",
    "qui relient des villes \"éloignées\")\n",
    "\n",
    "Enfin, dans nos valeurs, nous avons récupéré les données directement sur Mappy avec un BOT. Les chemin que nous avons pris était toujours des\n",
    "plus courts chemins en temps. Dès que c'était possible, le chemin passait par l'autoroute. Pour pourvoir jouer sur la contrainte péage nous avons alors\n",
    "volontairement ajouté dans petite ville pour relier des plus grande ville. Cela nous a permis de relier des grandes villes sans prendre de péages."
   ]
  },
  {
   "cell_type": "code",
   "execution_count": 87,
   "metadata": {},
   "outputs": [],
   "source": [
    "def affiche_graph(g_ville,c,Lville,depart,arrive):\n",
    "    list_edges = [list(i) for i in g_ville.edges() ]\n",
    "    list_nodes = [codage[i] for i in g_ville.nodes() ]\n",
    "    list_edges = [[codage[i[0]],codage[i[1]]] for i in list_edges]\n",
    "    for node in list_nodes :\n",
    "        if ( node!=depart and node!=arrive):\n",
    "            folium.Marker(list(reversed(GPS[node])),popup=ville,weight=1).add_to(c)\n",
    "    for arc in list_edges :\n",
    "        routeLatLons = [list(reversed(GPS[arc[0]])),list(reversed(GPS[arc[1]]))]\n",
    "        folium.PolyLine(routeLatLons, color=\"blue\", weight=3, opacity=1).add_to(c)\n",
    "    for i in Lville :\n",
    "        routeLatLons.append(list(reversed(GPS[codage[i]])))\n",
    "    folium.PolyLine(routeLatLons, color=\"red\", weight=2, opacity=1).add_to(c)"
   ]
  },
  {
   "cell_type": "code",
   "execution_count": 88,
   "metadata": {
    "scrolled": false
   },
   "outputs": [
    {
     "name": "stdout",
     "output_type": "stream",
     "text": [
      "\t\tGPS DE MALO BAPTISTE LOIC\n"
     ]
    },
    {
     "data": {
      "application/vnd.jupyter.widget-view+json": {
       "model_id": "aee65b12ce9e4f2987c4bbd065624c72",
       "version_major": 2,
       "version_minor": 0
      },
      "text/plain": [
       "interactive(children=(Checkbox(value=False, description='avec_reduction'), Text(value='200', description='carb…"
      ]
     },
     "metadata": {},
     "output_type": "display_data"
    }
   ],
   "source": [
    "class Pb_insoluble(Exception) :\n",
    "    pass\n",
    "\n",
    "print(\"\\t\\tGPS DE MALO BAPTISTE LOIC\")\n",
    "@interact(carburant = '200',\n",
    "         peage = '200',\n",
    "         temps = '3000',\n",
    "          depart = villes,\n",
    "          arrive = villes,\n",
    "          avec_reduction = False\n",
    "         )\n",
    "\n",
    "\n",
    "def affichage_bis (avec_reduction=False,carburant='200',peage='200',temps='3000',depart=\"RENNES\",arrive=\"PERPIGNAN\"):\n",
    "\n",
    "    # cast des bons types :\n",
    "    try :\n",
    "        if (carburant =='' or peage =='' or temps=='') :\n",
    "            raise ValueError(\"Entrez une valeur réelle\")\n",
    "        elif (',' in carburant or ',' in peage or ',' in temps):\n",
    "            raise ValueError(\"Ne pas mettre de virgule\")\n",
    "        else :\n",
    "            carburant = float(carburant)\n",
    "            peage = float(peage)\n",
    "            temps = float(temps)\n",
    "\n",
    "        # On récupère le numéro des villes.\n",
    "        s = codage[depart]\n",
    "        t = codage[arrive]\n",
    "\n",
    "\n",
    "\n",
    "\n",
    "        b = {1:carburant,2:peage,3:temps}\n",
    "        b_correc = [carburant,peage,temps]\n",
    "\n",
    "        print(\"----Solution via le modèle Pulp----\")\n",
    "        t1 = time.perf_counter()\n",
    "        res = path_PCC(N,C,Adj_ville,s,t,R,b)\n",
    "        t2 = time.perf_counter()\n",
    "        \n",
    "        if (res['statu'] == \"Infeasible\"):\n",
    "            raise Pb_insoluble(\"Le problème n'est pas soluble\")\n",
    "        \n",
    "        Lville = res['trace']\n",
    "        \n",
    "        print(\"Longueur du plus court chemin : {}\".format(res['consommations'][0]))\n",
    "        for r in range(1,4):\n",
    "            print(\"Consommation de la ressource {} : {}\".format(r,np.round(res['consommations'][r],3)))\n",
    "            \n",
    "            \n",
    "        print(\"Temps de calcul : {} s\".format(np.round(t2-t1,3)))\n",
    "            \n",
    "        print(\"Chemin Emprunté : \",end=' ')\n",
    "        \n",
    "        for v in Lville: \n",
    "            print(codage[v],end='-')\n",
    "        print(\"\\n----Fin solution via le Modèle Pulp\")\n",
    "\n",
    "\n",
    "        d = Correc_Etiq_bis(g_ville,s,t,3,b_correc)\n",
    "        \n",
    "        print()\n",
    "        print()\n",
    "        print(\"----Solution via la correction d'Etiquette----\")\n",
    "        \n",
    "        \n",
    "        print(\"Longueur du plus court chemin : {}\".format(d['pcc'][0]))\n",
    "        for r in range(1,4):\n",
    "            print(\"Consommation de la ressource {} : {}\".format(r,np.round(d['pcc'][r],3)))\n",
    "            \n",
    "            \n",
    "            \n",
    "        print(\"Temps de calcul : {} s\".format(np.round(d['temps'],3)))\n",
    "        print(\"Chemin Emprunté : \",end=' ')\n",
    "        for v in d['trace'] : \n",
    "            print(codage[v],end='-')\n",
    "        print(\"\\n---- Fin solution correction d'Etiquette----\")\n",
    "        print()\n",
    "        print()\n",
    "        \n",
    "        #gp_ville = nettoyage (g_ville,s,t,b_correc,3)['graphe']\n",
    "        #print(Correc_Etiq_bis(gp_ville,s,t,3,b_correc))\n",
    "\n",
    "\n",
    "        \n",
    "\n",
    "\n",
    "        if(res['statu'] == 'Optimal'):\n",
    "            routeLatLons=[]\n",
    "            coor_depart= list(reversed(GPS[depart]))\n",
    "            coor_arrivee= list(reversed(GPS[arrive]))\n",
    "\n",
    "            # on initialise la carte\n",
    "\n",
    "            c = folium.Map(location=[46.611715,2.768555], zoom_start=6)\n",
    "\n",
    "            # choix de l'icone\n",
    "            icone=\"car\"\n",
    "\n",
    "            # on marque les villes du graph\n",
    "\n",
    "            folium.Marker(coor_depart,popup=\"Départ : \"+depart, icon=folium.Icon(icon=icone, prefix=\"fa\",color=\"green\")).add_to(c)\n",
    "            folium.Marker(coor_arrivee,popup=\"Arrivée : \"+arrive, icon=folium.Icon(icon=icone,prefix=\"fa\", color=\"red\")).add_to(c)\n",
    "            if(not avec_reduction):\n",
    "                for ville in villes :\n",
    "                    if ( ville!=depart and ville!=arrive):\n",
    "                        folium.Marker(list(reversed(GPS[ville])),popup=ville,weight=1).add_to(c)\n",
    "\n",
    "\n",
    "\n",
    "                router = Router(\"car\")\n",
    "\n",
    "                for i in (df_GPS_2.index):\n",
    "                    city_d = df_GPS_2[\"depart\"][i]\n",
    "                    city_a = df_GPS_2[\"arrive\"][i]\n",
    "                    graph = [list(reversed(GPS[city_d])),list(reversed(GPS[city_a]))]\n",
    "                    folium.PolyLine(graph, color=\"blue\", weight=1, opacity=1).add_to(c)\n",
    "                for i in Lville :\n",
    "                    routeLatLons.append(list(reversed(GPS[codage[i]])))\n",
    "                folium.PolyLine(routeLatLons, color=\"red\", weight=2, opacity=1).add_to(c)\n",
    "            else : \n",
    "                t1 = time.perf_counter()\n",
    "                gp_ville = nettoyage (g_ville,s,t,b_correc,3)['graphe']\n",
    "                t2 = time.perf_counter()\n",
    "                \n",
    "                print(\"temps de calcul nettoyage : {} s\".format(np.round(t2-t1,3)))\n",
    "                affiche_graph(gp_ville,c,Lville,depart,arrive)\n",
    "        display(c)\n",
    "    except ValueError as v1: \n",
    "        print(v1)\n",
    "    except Pb_insoluble as e1 :\n",
    "        print(e1)"
   ]
  },
  {
   "cell_type": "markdown",
   "metadata": {},
   "source": [
    "## Conclusion"
   ]
  },
  {
   "cell_type": "markdown",
   "metadata": {},
   "source": [
    "Ce projet nous a permis de nous attaquer à un problème difficile, sous plusieurs aspects. C'était un projet très différent de ceux réalisés cette année dans le sens où nous avions simplement un sujet et nous étions relativement libres sur la façon dont le traiter. Nous avons beaucoup appris de ce projet que ce soit en programmation python mais aussi dans la compréhension et la manipulation des graphs, mais aussi dans la démarche scientifique en elle-même, car n'ayant pas de réel énoncé pour ce projet, nous devions construire nous-même notre sujet et trouver un cheminement qui nous permet de raconter une histoire autour du problème, avec des enchainements logiques dans notre rédaction afin de comprendre nous-même ce que nous sommes en train de faire. Nous avons aussi été confronté à plusieurs difficultés qui nous ont pris parfois plusieurs jours à résoudre, mais nous avons appris de ceci que parfois il faut laisser les difficultés de côté, travailler autre chose pour laisser des idées venir.\n",
    "\n",
    "Malgré notre travail sur ce projet nous avons plusieurs idées en tête afin d'améliorer notre rendu, à savoir traiter le problème mais sur un p-graph, et donc avoir plusieurs arcs qui relient deux mêmes sommets, afin de venir compléter notre gps et avoir quelque chose qui correspond plus aux réseaux routiers français. Nous avions aussi l'idée de s'attaquer aux contraintes de fenêtre de temps qui sont un autre type de contraintes.\n"
   ]
  },
  {
   "cell_type": "code",
   "execution_count": null,
   "metadata": {},
   "outputs": [],
   "source": []
  }
 ],
 "metadata": {
  "celltoolbar": "Format de la Cellule Texte Brut",
  "kernelspec": {
   "display_name": "Python 3",
   "language": "python",
   "name": "python3"
  },
  "language_info": {
   "codemirror_mode": {
    "name": "ipython",
    "version": 3
   },
   "file_extension": ".py",
   "mimetype": "text/x-python",
   "name": "python",
   "nbconvert_exporter": "python",
   "pygments_lexer": "ipython3",
   "version": "3.8.3"
  }
 },
 "nbformat": 4,
 "nbformat_minor": 4
}
